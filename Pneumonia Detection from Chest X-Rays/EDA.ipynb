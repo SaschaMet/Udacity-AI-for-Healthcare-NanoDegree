{
 "cells": [
  {
   "cell_type": "code",
   "execution_count": 2,
   "metadata": {},
   "outputs": [
    {
     "name": "stdout",
     "output_type": "stream",
     "text": [
      "Defaulting to user installation because normal site-packages is not writeable\n",
      "Requirement already satisfied: pydicom in /opt/conda/lib/python3.7/site-packages (1.4.2)\n"
     ]
    }
   ],
   "source": [
    "import numpy as np # linear algebra\n",
    "import pandas as pd # data processing, CSV file I/O (e.g. pd.read_csv)\n",
    "import os\n",
    "from glob import glob\n",
    "%matplotlib inline\n",
    "import matplotlib.pyplot as plt\n",
    "import seaborn as sns\n",
    "\n",
    "##Import any other packages you may need here\n",
    "!pip install pydicom\n",
    "from itertools import chain\n",
    "from pydicom import dcmread"
   ]
  },
  {
   "cell_type": "markdown",
   "metadata": {},
   "source": [
    "EDA is open-ended, and it is up to you to decide how to look at different ways to slice and dice your data. A good starting point is to look at the requirements for the FDA documentation in the final part of this project to guide (some) of the analyses you do. \n",
    "\n",
    "This EDA should also help to inform you of how pneumonia looks in the wild. E.g. what other types of diseases it's commonly found with, how often it is found, what ages it affects, etc. \n",
    "\n",
    "Note that this NIH dataset was not specifically acquired for pneumonia. So, while this is a representation of 'pneumonia in the wild,' the prevalence of pneumonia may be different if you were to take only chest x-rays that were acquired in an ER setting with suspicion of pneumonia. "
   ]
  },
  {
   "cell_type": "markdown",
   "metadata": {},
   "source": [
    "Perform the following EDA:\n",
    "* The patient demographic data such as gender, age, patient position,etc. (as it is available)\n",
    "* The x-ray views taken (i.e. view position)\n",
    "* The number of cases including: \n",
    "    * number of pneumonia cases,\n",
    "    * number of non-pneumonia cases\n",
    "* The distribution of other diseases that are comorbid with pneumonia\n",
    "* Number of disease per patient \n",
    "* Pixel-level assessments of the imaging data for healthy & disease states of interest (e.g. histograms of intensity values) and compare distributions across diseases.\n",
    "\n",
    "Note: use full NIH data to perform the first a few EDA items and use `sample_labels.csv` for the pixel-level assassements. "
   ]
  },
  {
   "cell_type": "markdown",
   "metadata": {},
   "source": [
    "Also, **describe your findings and how will you set up the model training based on the findings.**"
   ]
  },
  {
   "cell_type": "code",
   "execution_count": 4,
   "metadata": {},
   "outputs": [
    {
     "data": {
      "text/html": [
       "<div>\n",
       "<style scoped>\n",
       "    .dataframe tbody tr th:only-of-type {\n",
       "        vertical-align: middle;\n",
       "    }\n",
       "\n",
       "    .dataframe tbody tr th {\n",
       "        vertical-align: top;\n",
       "    }\n",
       "\n",
       "    .dataframe thead th {\n",
       "        text-align: right;\n",
       "    }\n",
       "</style>\n",
       "<table border=\"1\" class=\"dataframe\">\n",
       "  <thead>\n",
       "    <tr style=\"text-align: right;\">\n",
       "      <th></th>\n",
       "      <th>Image Index</th>\n",
       "      <th>Finding Labels</th>\n",
       "      <th>Follow-up #</th>\n",
       "      <th>Patient ID</th>\n",
       "      <th>Patient Age</th>\n",
       "      <th>Patient Gender</th>\n",
       "      <th>View Position</th>\n",
       "      <th>OriginalImage[Width</th>\n",
       "      <th>Height]</th>\n",
       "      <th>OriginalImagePixelSpacing[x</th>\n",
       "      <th>y]</th>\n",
       "      <th>Unnamed: 11</th>\n",
       "    </tr>\n",
       "  </thead>\n",
       "  <tbody>\n",
       "    <tr>\n",
       "      <th>0</th>\n",
       "      <td>00000001_000.png</td>\n",
       "      <td>Cardiomegaly</td>\n",
       "      <td>0</td>\n",
       "      <td>1</td>\n",
       "      <td>58</td>\n",
       "      <td>M</td>\n",
       "      <td>PA</td>\n",
       "      <td>2682</td>\n",
       "      <td>2749</td>\n",
       "      <td>0.143</td>\n",
       "      <td>0.143</td>\n",
       "      <td>NaN</td>\n",
       "    </tr>\n",
       "    <tr>\n",
       "      <th>1</th>\n",
       "      <td>00000001_001.png</td>\n",
       "      <td>Cardiomegaly|Emphysema</td>\n",
       "      <td>1</td>\n",
       "      <td>1</td>\n",
       "      <td>58</td>\n",
       "      <td>M</td>\n",
       "      <td>PA</td>\n",
       "      <td>2894</td>\n",
       "      <td>2729</td>\n",
       "      <td>0.143</td>\n",
       "      <td>0.143</td>\n",
       "      <td>NaN</td>\n",
       "    </tr>\n",
       "    <tr>\n",
       "      <th>2</th>\n",
       "      <td>00000001_002.png</td>\n",
       "      <td>Cardiomegaly|Effusion</td>\n",
       "      <td>2</td>\n",
       "      <td>1</td>\n",
       "      <td>58</td>\n",
       "      <td>M</td>\n",
       "      <td>PA</td>\n",
       "      <td>2500</td>\n",
       "      <td>2048</td>\n",
       "      <td>0.168</td>\n",
       "      <td>0.168</td>\n",
       "      <td>NaN</td>\n",
       "    </tr>\n",
       "  </tbody>\n",
       "</table>\n",
       "</div>"
      ],
      "text/plain": [
       "        Image Index          Finding Labels  Follow-up #  Patient ID  \\\n",
       "0  00000001_000.png            Cardiomegaly            0           1   \n",
       "1  00000001_001.png  Cardiomegaly|Emphysema            1           1   \n",
       "2  00000001_002.png   Cardiomegaly|Effusion            2           1   \n",
       "\n",
       "   Patient Age Patient Gender View Position  OriginalImage[Width  Height]  \\\n",
       "0           58              M            PA                 2682     2749   \n",
       "1           58              M            PA                 2894     2729   \n",
       "2           58              M            PA                 2500     2048   \n",
       "\n",
       "   OriginalImagePixelSpacing[x     y]  Unnamed: 11  \n",
       "0                        0.143  0.143          NaN  \n",
       "1                        0.143  0.143          NaN  \n",
       "2                        0.168  0.168          NaN  "
      ]
     },
     "execution_count": 4,
     "metadata": {},
     "output_type": "execute_result"
    }
   ],
   "source": [
    "## Load NIH data\n",
    "all_xray_df = pd.read_csv('/data/Data_Entry_2017.csv')\n",
    "all_xray_df.head(3)"
   ]
  },
  {
   "cell_type": "code",
   "execution_count": 8,
   "metadata": {},
   "outputs": [
    {
     "data": {
      "text/html": [
       "<div>\n",
       "<style scoped>\n",
       "    .dataframe tbody tr th:only-of-type {\n",
       "        vertical-align: middle;\n",
       "    }\n",
       "\n",
       "    .dataframe tbody tr th {\n",
       "        vertical-align: top;\n",
       "    }\n",
       "\n",
       "    .dataframe thead th {\n",
       "        text-align: right;\n",
       "    }\n",
       "</style>\n",
       "<table border=\"1\" class=\"dataframe\">\n",
       "  <thead>\n",
       "    <tr style=\"text-align: right;\">\n",
       "      <th></th>\n",
       "      <th>Image Index</th>\n",
       "      <th>Finding Labels</th>\n",
       "      <th>Follow-up #</th>\n",
       "      <th>Patient ID</th>\n",
       "      <th>Patient Age</th>\n",
       "      <th>Patient Gender</th>\n",
       "      <th>View Position</th>\n",
       "      <th>OriginalImageWidth</th>\n",
       "      <th>OriginalImageHeight</th>\n",
       "      <th>OriginalImagePixelSpacing_x</th>\n",
       "      <th>OriginalImagePixelSpacing_y</th>\n",
       "    </tr>\n",
       "  </thead>\n",
       "  <tbody>\n",
       "    <tr>\n",
       "      <th>0</th>\n",
       "      <td>00000013_005.png</td>\n",
       "      <td>Emphysema|Infiltration|Pleural_Thickening|Pneu...</td>\n",
       "      <td>5</td>\n",
       "      <td>13</td>\n",
       "      <td>060Y</td>\n",
       "      <td>M</td>\n",
       "      <td>AP</td>\n",
       "      <td>3056</td>\n",
       "      <td>2544</td>\n",
       "      <td>0.139</td>\n",
       "      <td>0.139</td>\n",
       "    </tr>\n",
       "    <tr>\n",
       "      <th>1</th>\n",
       "      <td>00000013_026.png</td>\n",
       "      <td>Cardiomegaly|Emphysema</td>\n",
       "      <td>26</td>\n",
       "      <td>13</td>\n",
       "      <td>057Y</td>\n",
       "      <td>M</td>\n",
       "      <td>AP</td>\n",
       "      <td>2500</td>\n",
       "      <td>2048</td>\n",
       "      <td>0.168</td>\n",
       "      <td>0.168</td>\n",
       "    </tr>\n",
       "    <tr>\n",
       "      <th>2</th>\n",
       "      <td>00000017_001.png</td>\n",
       "      <td>No Finding</td>\n",
       "      <td>1</td>\n",
       "      <td>17</td>\n",
       "      <td>077Y</td>\n",
       "      <td>M</td>\n",
       "      <td>AP</td>\n",
       "      <td>2500</td>\n",
       "      <td>2048</td>\n",
       "      <td>0.168</td>\n",
       "      <td>0.168</td>\n",
       "    </tr>\n",
       "  </tbody>\n",
       "</table>\n",
       "</div>"
      ],
      "text/plain": [
       "        Image Index                                     Finding Labels  \\\n",
       "0  00000013_005.png  Emphysema|Infiltration|Pleural_Thickening|Pneu...   \n",
       "1  00000013_026.png                             Cardiomegaly|Emphysema   \n",
       "2  00000017_001.png                                         No Finding   \n",
       "\n",
       "   Follow-up #  Patient ID Patient Age Patient Gender View Position  \\\n",
       "0            5          13        060Y              M            AP   \n",
       "1           26          13        057Y              M            AP   \n",
       "2            1          17        077Y              M            AP   \n",
       "\n",
       "   OriginalImageWidth  OriginalImageHeight  OriginalImagePixelSpacing_x  \\\n",
       "0                3056                 2544                        0.139   \n",
       "1                2500                 2048                        0.168   \n",
       "2                2500                 2048                        0.168   \n",
       "\n",
       "   OriginalImagePixelSpacing_y  \n",
       "0                        0.139  \n",
       "1                        0.168  \n",
       "2                        0.168  "
      ]
     },
     "execution_count": 8,
     "metadata": {},
     "output_type": "execute_result"
    }
   ],
   "source": [
    "## Load 'sample_labels.csv' data for pixel level assessments\n",
    "sample_df = pd.read_csv('sample_labels.csv')\n",
    "sample_df.head(3)"
   ]
  },
  {
   "cell_type": "markdown",
   "metadata": {},
   "source": [
    "# Dataset\n",
    "\n",
    "112,120 frontal-view chest X-ray PNG images.\n",
    "Meta data for all images: \n",
    "* Image Index\n",
    "* Finding Labels\n",
    "* Follow-up #\n",
    "* Patient ID\n",
    "* Patient Age\n",
    "* Patient Gender\n",
    "* View Position\n",
    "* Original Image Size\n",
    "* Original Image Pixel Spacing\n",
    "\n"
   ]
  },
  {
   "cell_type": "markdown",
   "metadata": {},
   "source": [
    "## Data cleaning"
   ]
  },
  {
   "cell_type": "code",
   "execution_count": 10,
   "metadata": {},
   "outputs": [
    {
     "data": {
      "text/html": [
       "<div>\n",
       "<style scoped>\n",
       "    .dataframe tbody tr th:only-of-type {\n",
       "        vertical-align: middle;\n",
       "    }\n",
       "\n",
       "    .dataframe tbody tr th {\n",
       "        vertical-align: top;\n",
       "    }\n",
       "\n",
       "    .dataframe thead th {\n",
       "        text-align: right;\n",
       "    }\n",
       "</style>\n",
       "<table border=\"1\" class=\"dataframe\">\n",
       "  <thead>\n",
       "    <tr style=\"text-align: right;\">\n",
       "      <th></th>\n",
       "      <th>Image Index</th>\n",
       "      <th>Finding Labels</th>\n",
       "      <th>Follow-up #</th>\n",
       "      <th>Patient ID</th>\n",
       "      <th>Patient Age</th>\n",
       "      <th>Patient Gender</th>\n",
       "      <th>View Position</th>\n",
       "      <th>OriginalImage[Width</th>\n",
       "      <th>Height]</th>\n",
       "      <th>OriginalImagePixelSpacing[x</th>\n",
       "      <th>y]</th>\n",
       "      <th>Unnamed: 11</th>\n",
       "    </tr>\n",
       "  </thead>\n",
       "  <tbody>\n",
       "    <tr>\n",
       "      <th>0</th>\n",
       "      <td>00000001_000.png</td>\n",
       "      <td>Cardiomegaly</td>\n",
       "      <td>0</td>\n",
       "      <td>1</td>\n",
       "      <td>58</td>\n",
       "      <td>M</td>\n",
       "      <td>PA</td>\n",
       "      <td>2682</td>\n",
       "      <td>2749</td>\n",
       "      <td>0.143</td>\n",
       "      <td>0.143</td>\n",
       "      <td>NaN</td>\n",
       "    </tr>\n",
       "    <tr>\n",
       "      <th>1</th>\n",
       "      <td>00000001_001.png</td>\n",
       "      <td>Cardiomegaly|Emphysema</td>\n",
       "      <td>1</td>\n",
       "      <td>1</td>\n",
       "      <td>58</td>\n",
       "      <td>M</td>\n",
       "      <td>PA</td>\n",
       "      <td>2894</td>\n",
       "      <td>2729</td>\n",
       "      <td>0.143</td>\n",
       "      <td>0.143</td>\n",
       "      <td>NaN</td>\n",
       "    </tr>\n",
       "    <tr>\n",
       "      <th>2</th>\n",
       "      <td>00000001_002.png</td>\n",
       "      <td>Cardiomegaly|Effusion</td>\n",
       "      <td>2</td>\n",
       "      <td>1</td>\n",
       "      <td>58</td>\n",
       "      <td>M</td>\n",
       "      <td>PA</td>\n",
       "      <td>2500</td>\n",
       "      <td>2048</td>\n",
       "      <td>0.168</td>\n",
       "      <td>0.168</td>\n",
       "      <td>NaN</td>\n",
       "    </tr>\n",
       "    <tr>\n",
       "      <th>3</th>\n",
       "      <td>00000002_000.png</td>\n",
       "      <td>No Finding</td>\n",
       "      <td>0</td>\n",
       "      <td>2</td>\n",
       "      <td>81</td>\n",
       "      <td>M</td>\n",
       "      <td>PA</td>\n",
       "      <td>2500</td>\n",
       "      <td>2048</td>\n",
       "      <td>0.171</td>\n",
       "      <td>0.171</td>\n",
       "      <td>NaN</td>\n",
       "    </tr>\n",
       "    <tr>\n",
       "      <th>4</th>\n",
       "      <td>00000003_000.png</td>\n",
       "      <td>Hernia</td>\n",
       "      <td>0</td>\n",
       "      <td>3</td>\n",
       "      <td>81</td>\n",
       "      <td>F</td>\n",
       "      <td>PA</td>\n",
       "      <td>2582</td>\n",
       "      <td>2991</td>\n",
       "      <td>0.143</td>\n",
       "      <td>0.143</td>\n",
       "      <td>NaN</td>\n",
       "    </tr>\n",
       "  </tbody>\n",
       "</table>\n",
       "</div>"
      ],
      "text/plain": [
       "        Image Index          Finding Labels  Follow-up #  Patient ID  \\\n",
       "0  00000001_000.png            Cardiomegaly            0           1   \n",
       "1  00000001_001.png  Cardiomegaly|Emphysema            1           1   \n",
       "2  00000001_002.png   Cardiomegaly|Effusion            2           1   \n",
       "3  00000002_000.png              No Finding            0           2   \n",
       "4  00000003_000.png                  Hernia            0           3   \n",
       "\n",
       "   Patient Age Patient Gender View Position  OriginalImage[Width  Height]  \\\n",
       "0           58              M            PA                 2682     2749   \n",
       "1           58              M            PA                 2894     2729   \n",
       "2           58              M            PA                 2500     2048   \n",
       "3           81              M            PA                 2500     2048   \n",
       "4           81              F            PA                 2582     2991   \n",
       "\n",
       "   OriginalImagePixelSpacing[x     y]  Unnamed: 11  \n",
       "0                        0.143  0.143          NaN  \n",
       "1                        0.143  0.143          NaN  \n",
       "2                        0.168  0.168          NaN  \n",
       "3                        0.171  0.171          NaN  \n",
       "4                        0.143  0.143          NaN  "
      ]
     },
     "execution_count": 10,
     "metadata": {},
     "output_type": "execute_result"
    }
   ],
   "source": [
    "df = all_xray_df.copy()\n",
    "df.head()"
   ]
  },
  {
   "cell_type": "code",
   "execution_count": 11,
   "metadata": {},
   "outputs": [
    {
     "data": {
      "text/plain": [
       "112120"
      ]
     },
     "execution_count": 11,
     "metadata": {},
     "output_type": "execute_result"
    }
   ],
   "source": [
    "# Make sure we have all the data\n",
    "len(df)"
   ]
  },
  {
   "cell_type": "code",
   "execution_count": 12,
   "metadata": {},
   "outputs": [
    {
     "data": {
      "text/html": [
       "<div>\n",
       "<style scoped>\n",
       "    .dataframe tbody tr th:only-of-type {\n",
       "        vertical-align: middle;\n",
       "    }\n",
       "\n",
       "    .dataframe tbody tr th {\n",
       "        vertical-align: top;\n",
       "    }\n",
       "\n",
       "    .dataframe thead th {\n",
       "        text-align: right;\n",
       "    }\n",
       "</style>\n",
       "<table border=\"1\" class=\"dataframe\">\n",
       "  <thead>\n",
       "    <tr style=\"text-align: right;\">\n",
       "      <th></th>\n",
       "      <th>Image_Index</th>\n",
       "      <th>Finding_Labels</th>\n",
       "      <th>Follow-up_#</th>\n",
       "      <th>Patient_ID</th>\n",
       "      <th>Patient_Age</th>\n",
       "      <th>Patient_Gender</th>\n",
       "      <th>View_Position</th>\n",
       "      <th>OriginalImage[Width</th>\n",
       "      <th>Height]</th>\n",
       "      <th>OriginalImagePixelSpacing[x</th>\n",
       "      <th>y]</th>\n",
       "      <th>Unnamed:_11</th>\n",
       "    </tr>\n",
       "  </thead>\n",
       "  <tbody>\n",
       "    <tr>\n",
       "      <th>0</th>\n",
       "      <td>00000001_000.png</td>\n",
       "      <td>Cardiomegaly</td>\n",
       "      <td>0</td>\n",
       "      <td>1</td>\n",
       "      <td>58</td>\n",
       "      <td>M</td>\n",
       "      <td>PA</td>\n",
       "      <td>2682</td>\n",
       "      <td>2749</td>\n",
       "      <td>0.143</td>\n",
       "      <td>0.143</td>\n",
       "      <td>NaN</td>\n",
       "    </tr>\n",
       "  </tbody>\n",
       "</table>\n",
       "</div>"
      ],
      "text/plain": [
       "        Image_Index Finding_Labels  Follow-up_#  Patient_ID  Patient_Age  \\\n",
       "0  00000001_000.png   Cardiomegaly            0           1           58   \n",
       "\n",
       "  Patient_Gender View_Position  OriginalImage[Width  Height]  \\\n",
       "0              M            PA                 2682     2749   \n",
       "\n",
       "   OriginalImagePixelSpacing[x     y]  Unnamed:_11  \n",
       "0                        0.143  0.143          NaN  "
      ]
     },
     "execution_count": 12,
     "metadata": {},
     "output_type": "execute_result"
    }
   ],
   "source": [
    "# replace spaces in column names with _\n",
    "df.columns = df.columns.str.replace(' ', '_')\n",
    "df.head(1)"
   ]
  },
  {
   "cell_type": "code",
   "execution_count": 13,
   "metadata": {},
   "outputs": [],
   "source": [
    "# split the OriginalImage[Width\tHeight] and\tOriginalImagePixelSpacing[x\ty] column\n",
    "OriginalImageWidth = df.iloc[: , 7]\n",
    "OriginalImageHeight = df.iloc[: , 8]\n",
    "OriginalImagePixelSpacing_x = df.iloc[: , 9]\n",
    "OriginalImagePixelSpacing_y = df.iloc[: , 9]"
   ]
  },
  {
   "cell_type": "code",
   "execution_count": 14,
   "metadata": {},
   "outputs": [
    {
     "data": {
      "text/html": [
       "<div>\n",
       "<style scoped>\n",
       "    .dataframe tbody tr th:only-of-type {\n",
       "        vertical-align: middle;\n",
       "    }\n",
       "\n",
       "    .dataframe tbody tr th {\n",
       "        vertical-align: top;\n",
       "    }\n",
       "\n",
       "    .dataframe thead th {\n",
       "        text-align: right;\n",
       "    }\n",
       "</style>\n",
       "<table border=\"1\" class=\"dataframe\">\n",
       "  <thead>\n",
       "    <tr style=\"text-align: right;\">\n",
       "      <th></th>\n",
       "      <th>Image_Index</th>\n",
       "      <th>Finding_Labels</th>\n",
       "      <th>Follow-up_#</th>\n",
       "      <th>Patient_ID</th>\n",
       "      <th>Patient_Age</th>\n",
       "      <th>Patient_Gender</th>\n",
       "      <th>View_Position</th>\n",
       "      <th>OriginalImageWidth</th>\n",
       "      <th>OriginalImageHeight</th>\n",
       "      <th>OriginalImagePixelSpacing_x</th>\n",
       "      <th>OriginalImagePixelSpacing_y</th>\n",
       "    </tr>\n",
       "  </thead>\n",
       "  <tbody>\n",
       "    <tr>\n",
       "      <th>0</th>\n",
       "      <td>00000001_000.png</td>\n",
       "      <td>Cardiomegaly</td>\n",
       "      <td>0</td>\n",
       "      <td>1</td>\n",
       "      <td>58</td>\n",
       "      <td>M</td>\n",
       "      <td>PA</td>\n",
       "      <td>2682</td>\n",
       "      <td>2749</td>\n",
       "      <td>0.143</td>\n",
       "      <td>0.143</td>\n",
       "    </tr>\n",
       "  </tbody>\n",
       "</table>\n",
       "</div>"
      ],
      "text/plain": [
       "        Image_Index Finding_Labels  Follow-up_#  Patient_ID  Patient_Age  \\\n",
       "0  00000001_000.png   Cardiomegaly            0           1           58   \n",
       "\n",
       "  Patient_Gender View_Position  OriginalImageWidth  OriginalImageHeight  \\\n",
       "0              M            PA                2682                 2749   \n",
       "\n",
       "   OriginalImagePixelSpacing_x  OriginalImagePixelSpacing_y  \n",
       "0                        0.143                        0.143  "
      ]
     },
     "execution_count": 14,
     "metadata": {},
     "output_type": "execute_result"
    }
   ],
   "source": [
    "# select only the first seven columns without the image data\n",
    "df = df.iloc[:,0:7]\n",
    "\n",
    "# and add the image data as new columns\n",
    "df['OriginalImageWidth'] = list(OriginalImageWidth) \n",
    "df['OriginalImageHeight'] = list(OriginalImageHeight) \n",
    "df['OriginalImagePixelSpacing_x'] = list(OriginalImagePixelSpacing_x) \n",
    "df['OriginalImagePixelSpacing_y'] = list(OriginalImagePixelSpacing_y) \n",
    "\n",
    "df.head(1)"
   ]
  },
  {
   "cell_type": "markdown",
   "metadata": {},
   "source": [
    "## Gender distribution"
   ]
  },
  {
   "cell_type": "code",
   "execution_count": 16,
   "metadata": {},
   "outputs": [
    {
     "data": {
      "image/png": "[encoded data removed]",
      "text/plain": [
       "<Figure size 360x360 with 1 Axes>"
      ]
     },
     "metadata": {
      "needs_background": "light"
     },
     "output_type": "display_data"
    },
    {
     "name": "stdout",
     "output_type": "stream",
     "text": [
      "Male Patients: 63340\n",
      "Female Patients: 48780\n",
      "There are 1.3 male patients for every female patient.\n"
     ]
    }
   ],
   "source": [
    "plt.figure(figsize=(5,5))\n",
    "plt.hist(df.Patient_Gender, bins = 3)\n",
    "plt.show()\n",
    "\n",
    "male_patiens = len(list(filter(None, df.Patient_Gender == \"M\")))\n",
    "female_patiens = len(list(filter(None, df.Patient_Gender == \"F\")))\n",
    "print(\"Male Patients:\", male_patiens)\n",
    "print(\"Female Patients:\", female_patiens)\n",
    "print(\"There are 1.3 male patients for every female patient.\")"
   ]
  },
  {
   "cell_type": "markdown",
   "metadata": {},
   "source": [
    "## Age distribution"
   ]
  },
  {
   "cell_type": "code",
   "execution_count": 17,
   "metadata": {},
   "outputs": [
    {
     "data": {
      "image/png": "[encoded data removed]",
      "text/plain": [
       "<Figure size 360x360 with 1 Axes>"
      ]
     },
     "metadata": {
      "needs_background": "light"
     },
     "output_type": "display_data"
    }
   ],
   "source": [
    "plt.figure(figsize=(5,5))\n",
    "plt.hist(df.Patient_Age, bins = 5)\n",
    "plt.show()"
   ]
  },
  {
   "cell_type": "code",
   "execution_count": 18,
   "metadata": {},
   "outputs": [
    {
     "data": {
      "text/plain": [
       "414"
      ]
     },
     "execution_count": 18,
     "metadata": {},
     "output_type": "execute_result"
    }
   ],
   "source": [
    "max_age = np.max(df.Patient_Age)\n",
    "max_age"
   ]
  },
  {
   "cell_type": "markdown",
   "metadata": {},
   "source": [
    "Looks loke the max age is 414, so this ist clearly an error. It also looks like that arround 90 there is a huge dropoff. "
   ]
  },
  {
   "cell_type": "code",
   "execution_count": 19,
   "metadata": {},
   "outputs": [
    {
     "data": {
      "text/plain": [
       "51"
      ]
     },
     "execution_count": 19,
     "metadata": {},
     "output_type": "execute_result"
    }
   ],
   "source": [
    "patiens_over_90 = len(list(filter(None, df.Patient_Age > 90)))\n",
    "patiens_over_90"
   ]
  },
  {
   "cell_type": "markdown",
   "metadata": {},
   "source": [
    "There are only 51 patients of age 91 or older. Because this is only a small amount we can remove these patients from the dataset. This will result in a dataset with more quality data."
   ]
  },
  {
   "cell_type": "code",
   "execution_count": 20,
   "metadata": {},
   "outputs": [
    {
     "data": {
      "text/plain": [
       "0"
      ]
     },
     "execution_count": 20,
     "metadata": {},
     "output_type": "execute_result"
    }
   ],
   "source": [
    "is_not_over_90 =  df.Patient_Age < 91\n",
    "df = df[is_not_over_90]\n",
    "\n",
    "patiens_over_90 = len(list(filter(None, df.Patient_Age > 90)))\n",
    "patiens_over_90"
   ]
  },
  {
   "cell_type": "code",
   "execution_count": 21,
   "metadata": {},
   "outputs": [
    {
     "name": "stdout",
     "output_type": "stream",
     "text": [
      "Min Age: 1\n",
      "Max Age: 90\n",
      "Mean Age: 46.85832835128358\n",
      "Median Age: 49.0\n",
      "\n"
     ]
    },
    {
     "data": {
      "image/png": "[encoded data removed]",
      "text/plain": [
       "<Figure size 432x288 with 1 Axes>"
      ]
     },
     "metadata": {
      "needs_background": "light"
     },
     "output_type": "display_data"
    }
   ],
   "source": [
    "mean_age = np.mean(df.Patient_Age)\n",
    "median_age = np.median(df.Patient_Age)\n",
    "min_age = np.min(df.Patient_Age)\n",
    "max_age = np.max(df.Patient_Age)\n",
    "\n",
    "print(\"Min Age:\", min_age)\n",
    "print(\"Max Age:\", max_age)\n",
    "print(\"Mean Age:\", mean_age)\n",
    "print(\"Median Age:\", median_age)\n",
    "print(\"\")\n",
    "\n",
    "fig,ax = plt.subplots()\n",
    "\n",
    "data_line = ax.hist(df.Patient_Age, label='Age distribution')\n",
    "plt.axvline(mean_age, color='red', linestyle='dashed', linewidth=1, label='Mean Age')\n",
    "legend = ax.legend(loc='upper left')\n",
    "\n",
    "plt.show()"
   ]
  },
  {
   "cell_type": "markdown",
   "metadata": {},
   "source": [
    "The resulting dataset consists of patients from the age of 1 to 90. The mean age ist 47, the median age is 49."
   ]
  },
  {
   "cell_type": "markdown",
   "metadata": {},
   "source": [
    "## View Position: X-ray orientation"
   ]
  },
  {
   "cell_type": "code",
   "execution_count": 22,
   "metadata": {},
   "outputs": [
    {
     "name": "stdout",
     "output_type": "stream",
     "text": [
      "{'AP', 'PA'}\n"
     ]
    }
   ],
   "source": [
    "print(set(df.View_Position))"
   ]
  },
  {
   "cell_type": "markdown",
   "metadata": {},
   "source": [
    "The standard chest radiograph is acquired with the patient standing up, and with the X-ray beam passing through the patient from Posterior to Anterior (PA).\n",
    "Sometimes it is not possible for radiographers to acquire a PA chest X-ray. This is usually because the patient is too unwell to stand (AP). The chest X-ray image is still viewed as if looking at the patient face-to-face."
   ]
  },
  {
   "cell_type": "code",
   "execution_count": 23,
   "metadata": {},
   "outputs": [
    {
     "data": {
      "image/png": "[encoded data removed]",
      "text/plain": [
       "<Figure size 360x360 with 1 Axes>"
      ]
     },
     "metadata": {
      "needs_background": "light"
     },
     "output_type": "display_data"
    },
    {
     "name": "stdout",
     "output_type": "stream",
     "text": [
      "PA: 67277\n",
      "AP: 44792\n"
     ]
    }
   ],
   "source": [
    "plt.figure(figsize=(5,5))\n",
    "plt.hist(df.View_Position, bins = 3)\n",
    "plt.show()\n",
    "\n",
    "PA = len(list(filter(None, df.View_Position == \"PA\")))\n",
    "AP = len(list(filter(None, df.View_Position == \"AP\")))\n",
    "print(\"PA:\", PA)\n",
    "print(\"AP:\", AP)"
   ]
  },
  {
   "cell_type": "markdown",
   "metadata": {},
   "source": [
    "Does the position change with the number of follow ups?"
   ]
  },
  {
   "cell_type": "code",
   "execution_count": 24,
   "metadata": {},
   "outputs": [
    {
     "data": {
      "image/png": "[encoded data removed]",
      "text/plain": [
       "<Figure size 432x288 with 1 Axes>"
      ]
     },
     "metadata": {
      "needs_background": "light"
     },
     "output_type": "display_data"
    }
   ],
   "source": [
    "under_10_follow_ups = df[\"Follow-up_#\"] < 11\n",
    "under_25_follow_ups = df[\"Follow-up_#\"] < 26\n",
    "under_50_follow_ups = df[\"Follow-up_#\"] < 51\n",
    "under_80_follow_ups = df[\"Follow-up_#\"] < 81\n",
    "under_100_follow_ups = df[\"Follow-up_#\"] < 101\n",
    "\n",
    "pa_scans = []\n",
    "ap_scans = []\n",
    "\n",
    "for segment in [under_10_follow_ups, under_25_follow_ups, under_50_follow_ups, under_80_follow_ups, under_100_follow_ups]:\n",
    "    tmp_df = df[segment]\n",
    "    PA = len(list(filter(None, tmp_df.View_Position == \"PA\")))\n",
    "    AP = len(list(filter(None, tmp_df.View_Position == \"AP\")))\n",
    "    pa_scans.append(PA)\n",
    "    ap_scans.append(AP)\n",
    "\n",
    "plt.plot(pa_scans, label = \"pa_scans\")\n",
    "plt.plot(ap_scans, label = \"ap_scans\")\n",
    "plt.xlabel('Segements')\n",
    "plt.ylabel('# of Scans')\n",
    "plt.legend()\n",
    "plt.show()"
   ]
  },
  {
   "cell_type": "markdown",
   "metadata": {},
   "source": [
    "The number of AP-Scans does increase a little bit more than the number of PA-Scans the more follow ups a patient has. This can mean that sicker patients get more AP-Scans, wich would make sense."
   ]
  },
  {
   "cell_type": "markdown",
   "metadata": {},
   "source": [
    "## Case distribution\n",
    "\n",
    "The number of cases including the number of pneumonia cases and the number of non-pneumonia cases"
   ]
  },
  {
   "cell_type": "code",
   "execution_count": 25,
   "metadata": {},
   "outputs": [
    {
     "name": "stdout",
     "output_type": "stream",
     "text": [
      "All Labels (15): ['Atelectasis', 'Cardiomegaly', 'Consolidation', 'Edema', 'Effusion', 'Emphysema', 'Fibrosis', 'Hernia', 'Infiltration', 'Mass', 'No Finding', 'Nodule', 'Pleural_Thickening', 'Pneumonia', 'Pneumothorax']\n"
     ]
    },
    {
     "data": {
      "text/html": [
       "<div>\n",
       "<style scoped>\n",
       "    .dataframe tbody tr th:only-of-type {\n",
       "        vertical-align: middle;\n",
       "    }\n",
       "\n",
       "    .dataframe tbody tr th {\n",
       "        vertical-align: top;\n",
       "    }\n",
       "\n",
       "    .dataframe thead th {\n",
       "        text-align: right;\n",
       "    }\n",
       "</style>\n",
       "<table border=\"1\" class=\"dataframe\">\n",
       "  <thead>\n",
       "    <tr style=\"text-align: right;\">\n",
       "      <th></th>\n",
       "      <th>Image_Index</th>\n",
       "      <th>Finding_Labels</th>\n",
       "      <th>Follow-up_#</th>\n",
       "      <th>Patient_ID</th>\n",
       "      <th>Patient_Age</th>\n",
       "      <th>Patient_Gender</th>\n",
       "      <th>View_Position</th>\n",
       "      <th>OriginalImageWidth</th>\n",
       "      <th>OriginalImageHeight</th>\n",
       "      <th>OriginalImagePixelSpacing_x</th>\n",
       "      <th>...</th>\n",
       "      <th>Emphysema</th>\n",
       "      <th>Fibrosis</th>\n",
       "      <th>Hernia</th>\n",
       "      <th>Infiltration</th>\n",
       "      <th>Mass</th>\n",
       "      <th>No Finding</th>\n",
       "      <th>Nodule</th>\n",
       "      <th>Pleural_Thickening</th>\n",
       "      <th>Pneumonia</th>\n",
       "      <th>Pneumothorax</th>\n",
       "    </tr>\n",
       "  </thead>\n",
       "  <tbody>\n",
       "    <tr>\n",
       "      <th>0</th>\n",
       "      <td>00000001_000.png</td>\n",
       "      <td>Cardiomegaly</td>\n",
       "      <td>0</td>\n",
       "      <td>1</td>\n",
       "      <td>58</td>\n",
       "      <td>M</td>\n",
       "      <td>PA</td>\n",
       "      <td>2682</td>\n",
       "      <td>2749</td>\n",
       "      <td>0.143</td>\n",
       "      <td>...</td>\n",
       "      <td>0</td>\n",
       "      <td>0</td>\n",
       "      <td>0</td>\n",
       "      <td>0</td>\n",
       "      <td>0</td>\n",
       "      <td>0</td>\n",
       "      <td>0</td>\n",
       "      <td>0</td>\n",
       "      <td>0</td>\n",
       "      <td>0</td>\n",
       "    </tr>\n",
       "  </tbody>\n",
       "</table>\n",
       "<p>1 rows × 26 columns</p>\n",
       "</div>"
      ],
      "text/plain": [
       "        Image_Index Finding_Labels  Follow-up_#  Patient_ID  Patient_Age  \\\n",
       "0  00000001_000.png   Cardiomegaly            0           1           58   \n",
       "\n",
       "  Patient_Gender View_Position  OriginalImageWidth  OriginalImageHeight  \\\n",
       "0              M            PA                2682                 2749   \n",
       "\n",
       "   OriginalImagePixelSpacing_x  ...  Emphysema  Fibrosis  Hernia  \\\n",
       "0                        0.143  ...          0         0       0   \n",
       "\n",
       "   Infiltration  Mass  No Finding  Nodule  Pleural_Thickening  Pneumonia  \\\n",
       "0             0     0           0       0                   0          0   \n",
       "\n",
       "   Pneumothorax  \n",
       "0             0  \n",
       "\n",
       "[1 rows x 26 columns]"
      ]
     },
     "execution_count": 25,
     "metadata": {},
     "output_type": "execute_result"
    }
   ],
   "source": [
    "all_labels = np.unique(list(chain(*df['Finding_Labels'].map(lambda x: x.split('|')).tolist())))\n",
    "all_labels = [x for x in all_labels if len(x)>0]\n",
    "\n",
    "d = df.copy()\n",
    "\n",
    "print('All Labels ({}): {}'.format(len(all_labels), all_labels))\n",
    "for c_label in all_labels:\n",
    "    if len(c_label)>1: # leave out empty labels\n",
    "        d[c_label] = d['Finding_Labels'].map(lambda finding: 1 if c_label in finding else 0)\n",
    "d.head(1)"
   ]
  },
  {
   "cell_type": "code",
   "execution_count": 26,
   "metadata": {},
   "outputs": [
    {
     "data": {
      "text/plain": [
       "Atelectasis           0.103079\n",
       "Cardiomegaly          0.024762\n",
       "Consolidation         0.041635\n",
       "Edema                 0.020541\n",
       "Effusion              0.118793\n",
       "Emphysema             0.022450\n",
       "Fibrosis              0.015026\n",
       "Hernia                0.002026\n",
       "Infiltration          0.177453\n",
       "Mass                  0.051549\n",
       "No Finding            0.538347\n",
       "Nodule                0.056456\n",
       "Pleural_Thickening    0.030169\n",
       "Pneumonia             0.012760\n",
       "Pneumothorax          0.047301\n",
       "dtype: float64"
      ]
     },
     "execution_count": 26,
     "metadata": {},
     "output_type": "execute_result"
    }
   ],
   "source": [
    "d[all_labels].sum()/len(d)"
   ]
  },
  {
   "cell_type": "code",
   "execution_count": 27,
   "metadata": {},
   "outputs": [
    {
     "data": {
      "text/plain": [
       "[Text(0, 0.5, 'Number of Images with Label')]"
      ]
     },
     "execution_count": 27,
     "metadata": {},
     "output_type": "execute_result"
    },
    {
     "data": {
      "image/png": "[encoded data removed]",
      "text/plain": [
       "<Figure size 432x288 with 1 Axes>"
      ]
     },
     "metadata": {
      "needs_background": "light"
     },
     "output_type": "display_data"
    }
   ],
   "source": [
    "ax = d[all_labels].sum().plot(kind='bar')\n",
    "ax.set(ylabel = 'Number of Images with Label')"
   ]
  },
  {
   "cell_type": "markdown",
   "metadata": {},
   "source": [
    "The dataset includes 14 pathologies:\n",
    "\n",
    "* Atelectasis\n",
    "* Consolidation\n",
    "* Infiltration\n",
    "* Pneumothorax\n",
    "* Edema\n",
    "* Emphysema\n",
    "* Fibrosis\n",
    "* Effusion\n",
    "* Pneumonia\n",
    "* Pleural thickening\n",
    "* Cardiomegaly\n",
    "* Nodule\n",
    "* Mass\n",
    "* Hernia\n",
    "\n",
    "The most common value though is \"No Finding\" with 54%. Pneumonia does occur in around 1% of all patients. The second most finding ist \"Infiltration\" with 18 %."
   ]
  },
  {
   "cell_type": "code",
   "execution_count": 28,
   "metadata": {},
   "outputs": [
    {
     "name": "stdout",
     "output_type": "stream",
     "text": [
      "There are  1430  records with Pneumonia listet in the Finding Labes column\n"
     ]
    }
   ],
   "source": [
    "pneumonia_cases = d[d.Pneumonia==1].shape[0]\n",
    "print(\"There are \", pneumonia_cases, \" records with Pneumonia listet in the Finding Labes column\")"
   ]
  },
  {
   "cell_type": "markdown",
   "metadata": {},
   "source": [
    "Pneumonia is sometimes not the only finding listet in the findings column. Let's look at the 30 most common co-occurrences:"
   ]
  },
  {
   "cell_type": "code",
   "execution_count": 29,
   "metadata": {},
   "outputs": [
    {
     "data": {
      "text/plain": [
       "<matplotlib.axes._subplots.AxesSubplot at 0x7fea60244890>"
      ]
     },
     "execution_count": 29,
     "metadata": {},
     "output_type": "execute_result"
    },
    {
     "data": {
      "image/png": "[encoded data removed]",
      "text/plain": [
       "<Figure size 1152x432 with 1 Axes>"
      ]
     },
     "metadata": {
      "needs_background": "light"
     },
     "output_type": "display_data"
    }
   ],
   "source": [
    "plt.figure(figsize=(16,6))\n",
    "d[d.Pneumonia==1]['Finding_Labels'].value_counts()[0:30].plot(kind='bar')"
   ]
  },
  {
   "cell_type": "markdown",
   "metadata": {},
   "source": [
    "It looks like that Pneumonia occurs most often alone. The most often co-occurrence is Infiltration. The third most often case is Pneumonia with Infiltration and Edema. The fourth most common co-occurrence ist with Atelectasis. The fourth most common case is Pneumonia with Edema.\n",
    "\n",
    "Now let's look with a little bit more detail on the patients who do have Pneumonia"
   ]
  },
  {
   "cell_type": "code",
   "execution_count": 30,
   "metadata": {
    "scrolled": true
   },
   "outputs": [
    {
     "data": {
      "text/html": [
       "<div>\n",
       "<style scoped>\n",
       "    .dataframe tbody tr th:only-of-type {\n",
       "        vertical-align: middle;\n",
       "    }\n",
       "\n",
       "    .dataframe tbody tr th {\n",
       "        vertical-align: top;\n",
       "    }\n",
       "\n",
       "    .dataframe thead th {\n",
       "        text-align: right;\n",
       "    }\n",
       "</style>\n",
       "<table border=\"1\" class=\"dataframe\">\n",
       "  <thead>\n",
       "    <tr style=\"text-align: right;\">\n",
       "      <th></th>\n",
       "      <th>Patient_ID</th>\n",
       "      <th>Finding_Labels</th>\n",
       "      <th>Follow-up_#</th>\n",
       "      <th>Patient_ID</th>\n",
       "      <th>Patient_Age</th>\n",
       "      <th>Patient_Gender</th>\n",
       "      <th>Pneumonia</th>\n",
       "    </tr>\n",
       "  </thead>\n",
       "  <tbody>\n",
       "    <tr>\n",
       "      <th>48</th>\n",
       "      <td>13</td>\n",
       "      <td>Effusion|Pneumonia|Pneumothorax</td>\n",
       "      <td>10</td>\n",
       "      <td>13</td>\n",
       "      <td>60</td>\n",
       "      <td>M</td>\n",
       "      <td>1</td>\n",
       "    </tr>\n",
       "    <tr>\n",
       "      <th>126</th>\n",
       "      <td>32</td>\n",
       "      <td>Atelectasis|Consolidation|Edema|Pneumonia</td>\n",
       "      <td>12</td>\n",
       "      <td>32</td>\n",
       "      <td>55</td>\n",
       "      <td>F</td>\n",
       "      <td>1</td>\n",
       "    </tr>\n",
       "    <tr>\n",
       "      <th>253</th>\n",
       "      <td>56</td>\n",
       "      <td>Nodule|Pneumonia</td>\n",
       "      <td>0</td>\n",
       "      <td>56</td>\n",
       "      <td>76</td>\n",
       "      <td>M</td>\n",
       "      <td>1</td>\n",
       "    </tr>\n",
       "    <tr>\n",
       "      <th>276</th>\n",
       "      <td>61</td>\n",
       "      <td>Edema|Effusion|Infiltration|Pleural_Thickening...</td>\n",
       "      <td>12</td>\n",
       "      <td>61</td>\n",
       "      <td>77</td>\n",
       "      <td>M</td>\n",
       "      <td>1</td>\n",
       "    </tr>\n",
       "    <tr>\n",
       "      <th>279</th>\n",
       "      <td>61</td>\n",
       "      <td>Pneumonia</td>\n",
       "      <td>15</td>\n",
       "      <td>61</td>\n",
       "      <td>77</td>\n",
       "      <td>M</td>\n",
       "      <td>1</td>\n",
       "    </tr>\n",
       "  </tbody>\n",
       "</table>\n",
       "</div>"
      ],
      "text/plain": [
       "     Patient_ID                                     Finding_Labels  \\\n",
       "48           13                    Effusion|Pneumonia|Pneumothorax   \n",
       "126          32          Atelectasis|Consolidation|Edema|Pneumonia   \n",
       "253          56                                   Nodule|Pneumonia   \n",
       "276          61  Edema|Effusion|Infiltration|Pleural_Thickening...   \n",
       "279          61                                          Pneumonia   \n",
       "\n",
       "     Follow-up_#  Patient_ID  Patient_Age Patient_Gender  Pneumonia  \n",
       "48            10          13           60              M          1  \n",
       "126           12          32           55              F          1  \n",
       "253            0          56           76              M          1  \n",
       "276           12          61           77              M          1  \n",
       "279           15          61           77              M          1  "
      ]
     },
     "execution_count": 30,
     "metadata": {},
     "output_type": "execute_result"
    }
   ],
   "source": [
    "d_pneumonia = d[['Patient_ID', 'Finding_Labels', 'Follow-up_#', 'Patient_ID', 'Patient_Age', 'Patient_Gender', 'Pneumonia']].copy()\n",
    "has_pneumonia =  d_pneumonia['Pneumonia'] == 1\n",
    "d_pneumonia = d_pneumonia[has_pneumonia]\n",
    "\n",
    "d_pneumonia.head()"
   ]
  },
  {
   "cell_type": "markdown",
   "metadata": {},
   "source": [
    "## Gender distribution of Pneumonia patients"
   ]
  },
  {
   "cell_type": "code",
   "execution_count": 32,
   "metadata": {},
   "outputs": [
    {
     "data": {
      "image/png": "[encoded data removed]",
      "text/plain": [
       "<Figure size 360x360 with 1 Axes>"
      ]
     },
     "metadata": {
      "needs_background": "light"
     },
     "output_type": "display_data"
    },
    {
     "name": "stdout",
     "output_type": "stream",
     "text": [
      "Male Patients: 837\n",
      "Female Patients: 593\n",
      "1.41 male to female patients\n"
     ]
    }
   ],
   "source": [
    "plt.figure(figsize=(5,5))\n",
    "plt.hist(df.Patient_Gender, bins = 3)\n",
    "plt.show()\n",
    "\n",
    "male_patiens = len(list(filter(None, d_pneumonia.Patient_Gender == \"M\")))\n",
    "female_patiens = len(list(filter(None, d_pneumonia.Patient_Gender == \"F\")))\n",
    "print(\"Male Patients:\", male_patiens)\n",
    "print(\"Female Patients:\", female_patiens)\n",
    "print(round(male_patiens / female_patiens, 2), \"male to female patients\")"
   ]
  },
  {
   "cell_type": "markdown",
   "metadata": {},
   "source": [
    "The gender distribution is almost the same as in the global population (the global population had a 1.3 male to female ratio)"
   ]
  },
  {
   "cell_type": "markdown",
   "metadata": {},
   "source": [
    "## Age distribution of Pneumonia patients"
   ]
  },
  {
   "cell_type": "code",
   "execution_count": 33,
   "metadata": {},
   "outputs": [
    {
     "name": "stdout",
     "output_type": "stream",
     "text": [
      "Min Age: 2\n",
      "Max Age: 90\n",
      "Mean Age: 44.67062937062937\n",
      "Median Age: 46.0\n",
      "\n"
     ]
    },
    {
     "data": {
      "image/png": "[encoded data removed]",
      "text/plain": [
       "<Figure size 432x288 with 1 Axes>"
      ]
     },
     "metadata": {
      "needs_background": "light"
     },
     "output_type": "display_data"
    }
   ],
   "source": [
    "mean_age = np.mean(d_pneumonia.Patient_Age)\n",
    "median_age = np.median(d_pneumonia.Patient_Age)\n",
    "min_age = np.min(d_pneumonia.Patient_Age)\n",
    "max_age = np.max(d_pneumonia.Patient_Age)\n",
    "\n",
    "print(\"Min Age:\", min_age)\n",
    "print(\"Max Age:\", max_age)\n",
    "print(\"Mean Age:\", mean_age)\n",
    "print(\"Median Age:\", median_age)\n",
    "print(\"\")\n",
    "\n",
    "fig,ax = plt.subplots()\n",
    "\n",
    "data_line = ax.hist(d_pneumonia.Patient_Age, label='Age distribution')\n",
    "plt.axvline(mean_age, color='red', linestyle='dashed', linewidth=1, label='Mean Age')\n",
    "legend = ax.legend(loc='upper left')\n",
    "\n",
    "plt.show()"
   ]
  },
  {
   "cell_type": "markdown",
   "metadata": {},
   "source": [
    "Patients with Pneumonia tend to be 2-3 years younger than the global population. The mean age globally was 46.85, the median was 49. People at arround 55-60 are most likely to have Pneumonia."
   ]
  },
  {
   "cell_type": "markdown",
   "metadata": {},
   "source": [
    "## Number of diseases per patient"
   ]
  },
  {
   "cell_type": "code",
   "execution_count": 34,
   "metadata": {},
   "outputs": [
    {
     "data": {
      "text/html": [
       "<div>\n",
       "<style scoped>\n",
       "    .dataframe tbody tr th:only-of-type {\n",
       "        vertical-align: middle;\n",
       "    }\n",
       "\n",
       "    .dataframe tbody tr th {\n",
       "        vertical-align: top;\n",
       "    }\n",
       "\n",
       "    .dataframe thead th {\n",
       "        text-align: right;\n",
       "    }\n",
       "</style>\n",
       "<table border=\"1\" class=\"dataframe\">\n",
       "  <thead>\n",
       "    <tr style=\"text-align: right;\">\n",
       "      <th></th>\n",
       "      <th>Patient_ID</th>\n",
       "      <th>Finding_Labels</th>\n",
       "      <th>number_of_diseases</th>\n",
       "    </tr>\n",
       "  </thead>\n",
       "  <tbody>\n",
       "    <tr>\n",
       "      <th>0</th>\n",
       "      <td>1</td>\n",
       "      <td>Cardiomegaly</td>\n",
       "      <td>1</td>\n",
       "    </tr>\n",
       "    <tr>\n",
       "      <th>1</th>\n",
       "      <td>1</td>\n",
       "      <td>Cardiomegaly|Emphysema</td>\n",
       "      <td>2</td>\n",
       "    </tr>\n",
       "    <tr>\n",
       "      <th>2</th>\n",
       "      <td>1</td>\n",
       "      <td>Cardiomegaly|Effusion</td>\n",
       "      <td>2</td>\n",
       "    </tr>\n",
       "    <tr>\n",
       "      <th>4</th>\n",
       "      <td>3</td>\n",
       "      <td>Hernia</td>\n",
       "      <td>1</td>\n",
       "    </tr>\n",
       "    <tr>\n",
       "      <th>5</th>\n",
       "      <td>3</td>\n",
       "      <td>Hernia</td>\n",
       "      <td>1</td>\n",
       "    </tr>\n",
       "  </tbody>\n",
       "</table>\n",
       "</div>"
      ],
      "text/plain": [
       "   Patient_ID          Finding_Labels number_of_diseases\n",
       "0           1            Cardiomegaly                  1\n",
       "1           1  Cardiomegaly|Emphysema                  2\n",
       "2           1   Cardiomegaly|Effusion                  2\n",
       "4           3                  Hernia                  1\n",
       "5           3                  Hernia                  1"
      ]
     },
     "execution_count": 34,
     "metadata": {},
     "output_type": "execute_result"
    }
   ],
   "source": [
    "# Create a new df with all the patients where the Finding_Labels columns does not include \"No Finding\"\n",
    "d = df[['Patient_ID', 'Finding_Labels']].copy()\n",
    "is_sick = d['Finding_Labels'] != \"No Finding\"\n",
    "d = d[is_sick]\n",
    "d[\"number_of_diseases\"] = \"\"\n",
    "\n",
    "for index, row in d.iterrows():\n",
    "    d.at[index,'number_of_diseases'] = len(row['Finding_Labels'].split(\"|\"))\n",
    "\n",
    "d.head()"
   ]
  },
  {
   "cell_type": "code",
   "execution_count": 35,
   "metadata": {},
   "outputs": [
    {
     "name": "stdout",
     "output_type": "stream",
     "text": [
      "There are  51737  patients with at least a single finding left.\n"
     ]
    }
   ],
   "source": [
    "print(\"There are \", d.shape[0], \" patients with at least a single finding left.\")"
   ]
  },
  {
   "cell_type": "code",
   "execution_count": 36,
   "metadata": {},
   "outputs": [
    {
     "data": {
      "text/plain": [
       "{'diseases': {'Cardiomegaly', 'Effusion', 'Emphysema'},\n",
       " 'number_of_diseases': 3}"
      ]
     },
     "execution_count": 36,
     "metadata": {},
     "output_type": "execute_result"
    }
   ],
   "source": [
    "# Create a dict to store the dieseases and the number of diseases per patient\n",
    "# Patients can occur several times in the dataset, so we need to sum the findings per patient\n",
    "data = {}\n",
    "unique_patients = []\n",
    "for index, row in d.iterrows():\n",
    "    patient_id = row[\"Patient_ID\"]\n",
    "    unique_patients.append(patient_id)\n",
    "    if not patient_id in data:   \n",
    "        data[patient_id] = []\n",
    "    for e in row['Finding_Labels'].split(\"|\"):\n",
    "        data[patient_id].append(e)\n",
    "    data[patient_id] =  data[patient_id]\n",
    "    \n",
    "for key, value in data.items():\n",
    "    data[key] = {\n",
    "        \"diseases\": set(value),\n",
    "        \"number_of_diseases\": len(set(value))\n",
    "    }\n",
    "\n",
    "data[1]"
   ]
  },
  {
   "cell_type": "code",
   "execution_count": 37,
   "metadata": {},
   "outputs": [
    {
     "name": "stdout",
     "output_type": "stream",
     "text": [
      "There are 14394 unique patients with at least one finding in the dataset\n"
     ]
    }
   ],
   "source": [
    "print(\"There are\", len(set(unique_patients)), \"unique patients with at least one finding in the dataset\")"
   ]
  },
  {
   "cell_type": "code",
   "execution_count": 38,
   "metadata": {},
   "outputs": [
    {
     "data": {
      "text/plain": [
       "{3: 1636,\n",
       " 2: 2906,\n",
       " 1: 6740,\n",
       " 10: 84,\n",
       " 4: 1086,\n",
       " 8: 204,\n",
       " 5: 708,\n",
       " 6: 516,\n",
       " 7: 336,\n",
       " 11: 28,\n",
       " 9: 139,\n",
       " 12: 7,\n",
       " 13: 4}"
      ]
     },
     "execution_count": 38,
     "metadata": {},
     "output_type": "execute_result"
    }
   ],
   "source": [
    "# key = number of diseases\n",
    "# value = number of patients\n",
    "number_of_diseases = {}\n",
    "for key, value in data.items():\n",
    "    if not value[\"number_of_diseases\"] in number_of_diseases:   \n",
    "        number_of_diseases[value[\"number_of_diseases\"]] = 0\n",
    "    number_of_diseases[value[\"number_of_diseases\"]] = number_of_diseases[value[\"number_of_diseases\"]] + 1\n",
    "\n",
    "number_of_diseases "
   ]
  },
  {
   "cell_type": "code",
   "execution_count": 39,
   "metadata": {},
   "outputs": [
    {
     "data": {
      "image/png": "[encoded data removed]",
      "text/plain": [
       "<Figure size 432x288 with 1 Axes>"
      ]
     },
     "metadata": {
      "needs_background": "light"
     },
     "output_type": "display_data"
    }
   ],
   "source": [
    "lists = sorted(number_of_diseases.items())\n",
    "x, y = zip(*lists)\n",
    "plt.plot(x, y)\n",
    "plt.xlabel('Number of Diseases')\n",
    "plt.ylabel('Number of Patients')\n",
    "plt.title('Number of Diseases per Patient')\n",
    "plt.show()"
   ]
  },
  {
   "cell_type": "markdown",
   "metadata": {},
   "source": [
    "Many patients in the dataset have only one illness (6,740). With the number of findings going up, the number of patients does go down. It is interesting to see, that there are seven patiens with 12 findings and 3 patients with 13 findings."
   ]
  },
  {
   "cell_type": "markdown",
   "metadata": {},
   "source": [
    "## Image Data assessments"
   ]
  },
  {
   "cell_type": "code",
   "execution_count": 42,
   "metadata": {},
   "outputs": [
    {
     "data": {
      "text/plain": [
       "6"
      ]
     },
     "execution_count": 42,
     "metadata": {},
     "output_type": "execute_result"
    }
   ],
   "source": [
    "dcm_data = []\n",
    "for file_path in glob(\"./\" + \"test?.dcm\"): \n",
    "    dcm = dcmread(file_path)\n",
    "    dcm_data.append(dcm)\n",
    "\n",
    "len(dcm_data)"
   ]
  },
  {
   "cell_type": "code",
   "execution_count": 52,
   "metadata": {},
   "outputs": [
    {
     "data": {
      "image/png": "[encoded data removed]",
      "text/plain": [
       "<Figure size 1152x1152 with 6 Axes>"
      ]
     },
     "metadata": {
      "needs_background": "light"
     },
     "output_type": "display_data"
    }
   ],
   "source": [
    "fig, axs = plt.subplots(1, len(dcm_data), figsize = (16, 16))\n",
    "fig.suptitle('Dicom Images')\n",
    "\n",
    "for index, dcm in enumerate(dcm_data):\n",
    "    axs[index].imshow(dcm.pixel_array, cmap='gray')\n",
    "    axs[index].axis('off')"
   ]
  },
  {
   "cell_type": "code",
   "execution_count": 53,
   "metadata": {},
   "outputs": [],
   "source": [
    "# data we want to extract from the dcom file\n",
    "keywords = [\n",
    " 'PatientID',\n",
    " 'PatientAge',\n",
    " 'StudyDescription',\n",
    " 'PatientPosition',\n",
    " 'Modality',\n",
    " 'PatientSex',\n",
    "]"
   ]
  },
  {
   "cell_type": "code",
   "execution_count": 54,
   "metadata": {},
   "outputs": [
    {
     "data": {
      "text/html": [
       "<div>\n",
       "<style scoped>\n",
       "    .dataframe tbody tr th:only-of-type {\n",
       "        vertical-align: middle;\n",
       "    }\n",
       "\n",
       "    .dataframe tbody tr th {\n",
       "        vertical-align: top;\n",
       "    }\n",
       "\n",
       "    .dataframe thead th {\n",
       "        text-align: right;\n",
       "    }\n",
       "</style>\n",
       "<table border=\"1\" class=\"dataframe\">\n",
       "  <thead>\n",
       "    <tr style=\"text-align: right;\">\n",
       "      <th></th>\n",
       "      <th>PatientID</th>\n",
       "      <th>PatientAge</th>\n",
       "      <th>StudyDescription</th>\n",
       "      <th>PatientPosition</th>\n",
       "      <th>Modality</th>\n",
       "      <th>PatientSex</th>\n",
       "    </tr>\n",
       "  </thead>\n",
       "  <tbody>\n",
       "    <tr>\n",
       "      <th>0</th>\n",
       "      <td>2</td>\n",
       "      <td>81</td>\n",
       "      <td>No Finding</td>\n",
       "      <td>PA</td>\n",
       "      <td>CT</td>\n",
       "      <td>M</td>\n",
       "    </tr>\n",
       "    <tr>\n",
       "      <th>1</th>\n",
       "      <td>2</td>\n",
       "      <td>81</td>\n",
       "      <td>No Finding</td>\n",
       "      <td>PA</td>\n",
       "      <td>DX</td>\n",
       "      <td>M</td>\n",
       "    </tr>\n",
       "    <tr>\n",
       "      <th>2</th>\n",
       "      <td>2</td>\n",
       "      <td>81</td>\n",
       "      <td>No Finding</td>\n",
       "      <td>XX</td>\n",
       "      <td>DX</td>\n",
       "      <td>M</td>\n",
       "    </tr>\n",
       "    <tr>\n",
       "      <th>3</th>\n",
       "      <td>1</td>\n",
       "      <td>58</td>\n",
       "      <td>Cardiomegaly</td>\n",
       "      <td>AP</td>\n",
       "      <td>DX</td>\n",
       "      <td>M</td>\n",
       "    </tr>\n",
       "    <tr>\n",
       "      <th>4</th>\n",
       "      <td>61</td>\n",
       "      <td>77</td>\n",
       "      <td>Effusion</td>\n",
       "      <td>AP</td>\n",
       "      <td>DX</td>\n",
       "      <td>M</td>\n",
       "    </tr>\n",
       "    <tr>\n",
       "      <th>5</th>\n",
       "      <td>2</td>\n",
       "      <td>81</td>\n",
       "      <td>No Finding</td>\n",
       "      <td>PA</td>\n",
       "      <td>DX</td>\n",
       "      <td>M</td>\n",
       "    </tr>\n",
       "  </tbody>\n",
       "</table>\n",
       "</div>"
      ],
      "text/plain": [
       "  PatientID PatientAge StudyDescription PatientPosition Modality PatientSex\n",
       "0         2         81       No Finding              PA       CT          M\n",
       "1         2         81       No Finding              PA       DX          M\n",
       "2         2         81       No Finding              XX       DX          M\n",
       "3         1         58     Cardiomegaly              AP       DX          M\n",
       "4        61         77         Effusion              AP       DX          M\n",
       "5         2         81       No Finding              PA       DX          M"
      ]
     },
     "execution_count": 54,
     "metadata": {},
     "output_type": "execute_result"
    }
   ],
   "source": [
    "df_data = []\n",
    "\n",
    "for index, dcm in enumerate(dcm_data):\n",
    "    d = []\n",
    "    for key in keywords:\n",
    "        d.append(dcm[key].value)\n",
    "    df_data.append(d)\n",
    "\n",
    "df_dcom = pd.DataFrame(df_data, columns = keywords) \n",
    "df_dcom.head(6)"
   ]
  },
  {
   "cell_type": "code",
   "execution_count": 55,
   "metadata": {},
   "outputs": [],
   "source": [
    "## helper function standardize the image\n",
    "def standardize_image(imageData):\n",
    "    # Find the mean and std dev intensity values of the image, and standerdize it\n",
    "    mean_intensity = np.mean(imageData)\n",
    "    std_intensity = np.std(imageData)\n",
    "    new_img = imageData.copy()\n",
    "    new_img = (new_img - mean_intensity)/std_intensity\n",
    "    return new_img"
   ]
  },
  {
   "cell_type": "markdown",
   "metadata": {},
   "source": [
    "Are the images of the patient with the id 2 identical?"
   ]
  },
  {
   "cell_type": "code",
   "execution_count": 56,
   "metadata": {},
   "outputs": [
    {
     "data": {
      "text/html": [
       "<div>\n",
       "<style scoped>\n",
       "    .dataframe tbody tr th:only-of-type {\n",
       "        vertical-align: middle;\n",
       "    }\n",
       "\n",
       "    .dataframe tbody tr th {\n",
       "        vertical-align: top;\n",
       "    }\n",
       "\n",
       "    .dataframe thead th {\n",
       "        text-align: right;\n",
       "    }\n",
       "</style>\n",
       "<table border=\"1\" class=\"dataframe\">\n",
       "  <thead>\n",
       "    <tr style=\"text-align: right;\">\n",
       "      <th></th>\n",
       "      <th>PatientID</th>\n",
       "      <th>PatientAge</th>\n",
       "      <th>StudyDescription</th>\n",
       "      <th>PatientPosition</th>\n",
       "      <th>Modality</th>\n",
       "      <th>PatientSex</th>\n",
       "    </tr>\n",
       "  </thead>\n",
       "  <tbody>\n",
       "    <tr>\n",
       "      <th>0</th>\n",
       "      <td>2</td>\n",
       "      <td>81</td>\n",
       "      <td>No Finding</td>\n",
       "      <td>PA</td>\n",
       "      <td>CT</td>\n",
       "      <td>M</td>\n",
       "    </tr>\n",
       "    <tr>\n",
       "      <th>1</th>\n",
       "      <td>2</td>\n",
       "      <td>81</td>\n",
       "      <td>No Finding</td>\n",
       "      <td>PA</td>\n",
       "      <td>DX</td>\n",
       "      <td>M</td>\n",
       "    </tr>\n",
       "    <tr>\n",
       "      <th>2</th>\n",
       "      <td>2</td>\n",
       "      <td>81</td>\n",
       "      <td>No Finding</td>\n",
       "      <td>XX</td>\n",
       "      <td>DX</td>\n",
       "      <td>M</td>\n",
       "    </tr>\n",
       "    <tr>\n",
       "      <th>5</th>\n",
       "      <td>2</td>\n",
       "      <td>81</td>\n",
       "      <td>No Finding</td>\n",
       "      <td>PA</td>\n",
       "      <td>DX</td>\n",
       "      <td>M</td>\n",
       "    </tr>\n",
       "  </tbody>\n",
       "</table>\n",
       "</div>"
      ],
      "text/plain": [
       "  PatientID PatientAge StudyDescription PatientPosition Modality PatientSex\n",
       "0         2         81       No Finding              PA       CT          M\n",
       "1         2         81       No Finding              PA       DX          M\n",
       "2         2         81       No Finding              XX       DX          M\n",
       "5         2         81       No Finding              PA       DX          M"
      ]
     },
     "execution_count": 56,
     "metadata": {},
     "output_type": "execute_result"
    }
   ],
   "source": [
    "no_findings =  df_dcom['StudyDescription'] == 'No Finding'\n",
    "df_dcom_no_findings = df_dcom[no_findings]\n",
    "df_dcom_no_findings.head()"
   ]
  },
  {
   "cell_type": "code",
   "execution_count": 61,
   "metadata": {},
   "outputs": [
    {
     "data": {
      "image/png": "[encoded data removed]",
      "text/plain": [
       "<Figure size 432x288 with 4 Axes>"
      ]
     },
     "metadata": {
      "needs_background": "light"
     },
     "output_type": "display_data"
    }
   ],
   "source": [
    "fig, axs = plt.subplots(1, 4)\n",
    "fig.tight_layout()\n",
    "\n",
    "c = 0\n",
    "for index, row in df_dcom_no_findings.iterrows():\n",
    "    pixel_data = dcm_data[index].pixel_array\n",
    "    std_image = standardize_image(pixel_data)\n",
    "    axs[c].hist(std_image.ravel(), bins = 256)\n",
    "    axs[c].axis('off')\n",
    "    c = c+1"
   ]
  },
  {
   "cell_type": "markdown",
   "metadata": {},
   "source": [
    "The desitiy values for patient 2 look very identical on every image"
   ]
  },
  {
   "cell_type": "markdown",
   "metadata": {},
   "source": [
    "## How do images with findings look like?"
   ]
  },
  {
   "cell_type": "code",
   "execution_count": 59,
   "metadata": {},
   "outputs": [
    {
     "data": {
      "text/html": [
       "<div>\n",
       "<style scoped>\n",
       "    .dataframe tbody tr th:only-of-type {\n",
       "        vertical-align: middle;\n",
       "    }\n",
       "\n",
       "    .dataframe tbody tr th {\n",
       "        vertical-align: top;\n",
       "    }\n",
       "\n",
       "    .dataframe thead th {\n",
       "        text-align: right;\n",
       "    }\n",
       "</style>\n",
       "<table border=\"1\" class=\"dataframe\">\n",
       "  <thead>\n",
       "    <tr style=\"text-align: right;\">\n",
       "      <th></th>\n",
       "      <th>PatientID</th>\n",
       "      <th>PatientAge</th>\n",
       "      <th>StudyDescription</th>\n",
       "      <th>PatientPosition</th>\n",
       "      <th>Modality</th>\n",
       "      <th>PatientSex</th>\n",
       "    </tr>\n",
       "  </thead>\n",
       "  <tbody>\n",
       "    <tr>\n",
       "      <th>3</th>\n",
       "      <td>1</td>\n",
       "      <td>58</td>\n",
       "      <td>Cardiomegaly</td>\n",
       "      <td>AP</td>\n",
       "      <td>DX</td>\n",
       "      <td>M</td>\n",
       "    </tr>\n",
       "    <tr>\n",
       "      <th>4</th>\n",
       "      <td>61</td>\n",
       "      <td>77</td>\n",
       "      <td>Effusion</td>\n",
       "      <td>AP</td>\n",
       "      <td>DX</td>\n",
       "      <td>M</td>\n",
       "    </tr>\n",
       "  </tbody>\n",
       "</table>\n",
       "</div>"
      ],
      "text/plain": [
       "  PatientID PatientAge StudyDescription PatientPosition Modality PatientSex\n",
       "3         1         58     Cardiomegaly              AP       DX          M\n",
       "4        61         77         Effusion              AP       DX          M"
      ]
     },
     "execution_count": 59,
     "metadata": {},
     "output_type": "execute_result"
    }
   ],
   "source": [
    "findings =  df_dcom['StudyDescription'] != 'No Finding'\n",
    "df_dcom_findings = df_dcom[findings]\n",
    "df_dcom_findings.head()"
   ]
  },
  {
   "cell_type": "code",
   "execution_count": 62,
   "metadata": {},
   "outputs": [
    {
     "data": {
      "image/png": "[encoded data removed]",
      "text/plain": [
       "<Figure size 432x288 with 2 Axes>"
      ]
     },
     "metadata": {
      "needs_background": "light"
     },
     "output_type": "display_data"
    }
   ],
   "source": [
    "fig, axs = plt.subplots(1, 2)\n",
    "fig.tight_layout()\n",
    "\n",
    "c = 0\n",
    "for index, row in df_dcom_findings.iterrows():\n",
    "    pixel_data = dcm_data[index].pixel_array\n",
    "    std_image = standardize_image(pixel_data)\n",
    "    axs[c].hist(std_image.ravel(), bins = 256)\n",
    "    axs[c].set_title(row[\"StudyDescription\"])\n",
    "    axs[c].axis('off')\n",
    "    c = c+1"
   ]
  },
  {
   "cell_type": "markdown",
   "metadata": {},
   "source": [
    "The images with a finding (Effusion or Cardiomegaly), both look very different than the images with no findings."
   ]
  },
  {
   "cell_type": "markdown",
   "metadata": {},
   "source": [
    "## Summary\n",
    "In the dataset there are 112,120 chest x-rays with disease labels acquired from 30,000 patients. These x-rays originate from 63,340 male and 48,780 female patients. The ages ranges from 1 to 90, the mean age is 47, the median age is 49.\n",
    "\n",
    "Many patients in the dataset have only one illness (6,740). With the number of findings going up, the number of patients does go down. \n",
    "\n",
    "The most common finding in the dataset is \"No Finding\" with 54%. The second most finding ist \"Infiltration\" with 18 %. Pneumonia does occur in around 1% of all patients. Furthermore, Pneumonia occurs most often alone. The most often co-occurrence with Pneumonia is Infiltration. The third most often case is Pneumonia with Infiltration and Edema. The fourth most common co-occurrence ist Pneumonia with Atelectasis. The fourth most common case is Pneumonia with Edema.\n",
    "The patients with Pneumonia are not that different to the global population, the gender and age distribution are almost identical.\n",
    "\n",
    "As already stated in the README.md, the diagnosis of pneumonia from chest X-rays is difficult for several reasons: \n",
    "1. The appearance of pneumonia in a chest X-ray can be very vague depending on the stage of the infection\n",
    "2. Pneumonia often overlaps with other diagnoses\n",
    "3. Pneumonia can mimic benign abnormalities\n",
    "\n",
    "For these reasons, it is important to build a classifier which will take the demographic data of the patient and even older x-rays into account. Also it will be important that the classifier can detect Pneumonia together with other diseases, because Pneumonia does often occur together with other illnesses. "
   ]
  }
 ],
 "metadata": {
  "kernelspec": {
   "display_name": "Python 3",
   "language": "python",
   "name": "python3"
  },
  "language_info": {
   "codemirror_mode": {
    "name": "ipython",
    "version": 3
   },
   "file_extension": ".py",
   "mimetype": "text/x-python",
   "name": "python",
   "nbconvert_exporter": "python",
   "pygments_lexer": "ipython3",
   "version": "3.7.6"
  }
 },
 "nbformat": 4,
 "nbformat_minor": 2
}
