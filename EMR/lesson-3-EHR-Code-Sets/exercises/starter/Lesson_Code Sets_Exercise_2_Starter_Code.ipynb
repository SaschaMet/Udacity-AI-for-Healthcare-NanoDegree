{
 "cells": [
  {
   "cell_type": "markdown",
   "metadata": {},
   "source": [
    "## Code Sets Exercise 2: Procedure Code Grouping"
   ]
  },
  {
   "cell_type": "markdown",
   "metadata": {},
   "source": [
    "### Datasets from 2018 CA inpatient dataset - https://data.chhs.ca.gov/dataset/hospital-inpatient-diagnosis-procedure-and-external-cause-codes/\n",
    "- Attribution to CA https://data.chhs.ca.gov/pages/terms"
   ]
  },
  {
   "cell_type": "markdown",
   "metadata": {},
   "source": [
    "### Instructions\n",
    "- Please use the following dataset from the state of California that provides the total inpatient diagnosis counts using the ICD10 - PCS code set. \n",
    "- Give the codes that have 'CORONARY ARTERY\" in the description\n",
    "- What percentage of primary procedure codes could be grouped at the B category level? \n",
    "- What is the most number of characters that you can use to group secondary procedure codes and be above Z %? \n"
   ]
  },
  {
   "cell_type": "code",
   "execution_count": 2,
   "metadata": {},
   "outputs": [],
   "source": [
    "import pandas as pd\n",
    "import numpy as np"
   ]
  },
  {
   "cell_type": "code",
   "execution_count": 12,
   "metadata": {},
   "outputs": [],
   "source": [
    "ca_icd_pc_path = './ICD-10-PCS-Table 1.csv'"
   ]
  },
  {
   "cell_type": "code",
   "execution_count": 13,
   "metadata": {},
   "outputs": [],
   "source": [
    "#last row is malformed\n",
    "proc_df = pd.read_csv(ca_icd_pc_path).fillna(0)[:-1]"
   ]
  },
  {
   "cell_type": "code",
   "execution_count": 14,
   "metadata": {},
   "outputs": [
    {
     "data": {
      "text/html": [
       "<div>\n",
       "<style scoped>\n",
       "    .dataframe tbody tr th:only-of-type {\n",
       "        vertical-align: middle;\n",
       "    }\n",
       "\n",
       "    .dataframe tbody tr th {\n",
       "        vertical-align: top;\n",
       "    }\n",
       "\n",
       "    .dataframe thead th {\n",
       "        text-align: right;\n",
       "    }\n",
       "</style>\n",
       "<table border=\"1\" class=\"dataframe\">\n",
       "  <thead>\n",
       "    <tr style=\"text-align: right;\">\n",
       "      <th></th>\n",
       "      <th>ProcedureCode</th>\n",
       "      <th>ProcedureDesc</th>\n",
       "      <th>TotalProc</th>\n",
       "      <th>PrimaryProc</th>\n",
       "      <th>SecondProc</th>\n",
       "    </tr>\n",
       "  </thead>\n",
       "  <tbody>\n",
       "    <tr>\n",
       "      <th>0</th>\n",
       "      <td>0016073</td>\n",
       "      <td>BYPASS CEREB VENT TO BLOOD VESS W AUTOL SUB, OPEN</td>\n",
       "      <td>2</td>\n",
       "      <td>0</td>\n",
       "      <td>2</td>\n",
       "    </tr>\n",
       "    <tr>\n",
       "      <th>1</th>\n",
       "      <td>00160J2</td>\n",
       "      <td>BYPASS CEREB VENT TO ATRIUM WITH SYNTH SUB, OP...</td>\n",
       "      <td>17</td>\n",
       "      <td>8</td>\n",
       "      <td>9</td>\n",
       "    </tr>\n",
       "    <tr>\n",
       "      <th>2</th>\n",
       "      <td>00160J4</td>\n",
       "      <td>BYPASS CEREB VENT TO PLEURAL CAV W SYNTH SUB, ...</td>\n",
       "      <td>17</td>\n",
       "      <td>6</td>\n",
       "      <td>11</td>\n",
       "    </tr>\n",
       "    <tr>\n",
       "      <th>3</th>\n",
       "      <td>00160J6</td>\n",
       "      <td>BYPASS CEREB VENT TO PERITON CAV W SYNTH SUB, ...</td>\n",
       "      <td>1372</td>\n",
       "      <td>796</td>\n",
       "      <td>576</td>\n",
       "    </tr>\n",
       "    <tr>\n",
       "      <th>4</th>\n",
       "      <td>00160JB</td>\n",
       "      <td>BYPASS CEREB VENT TO CEREB CISTERN W SYNTH SUB...</td>\n",
       "      <td>46</td>\n",
       "      <td>17</td>\n",
       "      <td>29</td>\n",
       "    </tr>\n",
       "  </tbody>\n",
       "</table>\n",
       "</div>"
      ],
      "text/plain": [
       "  ProcedureCode                                      ProcedureDesc TotalProc  \\\n",
       "0       0016073  BYPASS CEREB VENT TO BLOOD VESS W AUTOL SUB, OPEN         2   \n",
       "1       00160J2  BYPASS CEREB VENT TO ATRIUM WITH SYNTH SUB, OP...        17   \n",
       "2       00160J4  BYPASS CEREB VENT TO PLEURAL CAV W SYNTH SUB, ...        17   \n",
       "3       00160J6  BYPASS CEREB VENT TO PERITON CAV W SYNTH SUB, ...      1372   \n",
       "4       00160JB  BYPASS CEREB VENT TO CEREB CISTERN W SYNTH SUB...        46   \n",
       "\n",
       "  PrimaryProc SecondProc  \n",
       "0           0          2  \n",
       "1           8          9  \n",
       "2           6         11  \n",
       "3         796        576  \n",
       "4          17         29  "
      ]
     },
     "execution_count": 14,
     "metadata": {},
     "output_type": "execute_result"
    }
   ],
   "source": [
    "proc_df.head()"
   ]
  },
  {
   "cell_type": "code",
   "execution_count": null,
   "metadata": {},
   "outputs": [],
   "source": []
  }
 ],
 "metadata": {
  "kernelspec": {
   "display_name": "test_udacity_hc_env",
   "language": "python",
   "name": "test_udacity_hc_env"
  },
  "language_info": {
   "codemirror_mode": {
    "name": "ipython",
    "version": 3
   },
   "file_extension": ".py",
   "mimetype": "text/x-python",
   "name": "python",
   "nbconvert_exporter": "python",
   "pygments_lexer": "ipython3",
   "version": "3.7.6"
  }
 },
 "nbformat": 4,
 "nbformat_minor": 4
}
