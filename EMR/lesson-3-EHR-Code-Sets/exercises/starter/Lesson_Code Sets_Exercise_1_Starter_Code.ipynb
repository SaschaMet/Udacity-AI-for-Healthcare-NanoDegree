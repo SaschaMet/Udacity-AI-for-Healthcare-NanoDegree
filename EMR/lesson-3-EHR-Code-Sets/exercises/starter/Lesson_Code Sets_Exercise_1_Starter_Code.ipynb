{
 "cells": [
  {
   "cell_type": "markdown",
   "metadata": {},
   "source": [
    "## Code Sets Exercise 1: Diagnose Code Grouping"
   ]
  },
  {
   "cell_type": "markdown",
   "metadata": {},
   "source": [
    "### Datasets from 2018 CA inpatient dataset - https://data.chhs.ca.gov/dataset/hospital-inpatient-diagnosis-procedure-and-external-cause-codes/\n",
    "- Attribution to CA https://data.chhs.ca.gov/pages/terms"
   ]
  },
  {
   "cell_type": "markdown",
   "metadata": {},
   "source": [
    "### Instructions\n",
    "- Please use the following dataset from the state of California that provides the total inpatient diagnosis counts using the ICD10 - CM code set. \n",
    "- Give the codes that have 'SEPSIS\" in the description (HINT: could use the str.contains function)\n",
    "- What percentage of primary diagnosis codes could be grouped at the category level with A41? \n",
    "- If you were to create a metacategory for sepsis, what percentage of secondary diagnosis codes would be grouped with using just the first character? "
   ]
  },
  {
   "cell_type": "code",
   "execution_count": 2,
   "metadata": {},
   "outputs": [],
   "source": [
    "import pandas as pd\n",
    "import numpy as np"
   ]
  },
  {
   "cell_type": "code",
   "execution_count": 3,
   "metadata": {},
   "outputs": [],
   "source": [
    "ca_icd_dx_path = \"./ICD-10-CM-Table 1.csv\"\n",
    "#last row is malformed\n",
    "dx_df = pd.read_csv(ca_icd_dx_path).fillna(0)[:-1]"
   ]
  },
  {
   "cell_type": "code",
   "execution_count": 4,
   "metadata": {},
   "outputs": [
    {
     "data": {
      "text/html": [
       "<div>\n",
       "<style scoped>\n",
       "    .dataframe tbody tr th:only-of-type {\n",
       "        vertical-align: middle;\n",
       "    }\n",
       "\n",
       "    .dataframe tbody tr th {\n",
       "        vertical-align: top;\n",
       "    }\n",
       "\n",
       "    .dataframe thead th {\n",
       "        text-align: right;\n",
       "    }\n",
       "</style>\n",
       "<table border=\"1\" class=\"dataframe\">\n",
       "  <thead>\n",
       "    <tr style=\"text-align: right;\">\n",
       "      <th></th>\n",
       "      <th>ICD10CMCODE</th>\n",
       "      <th>DiagnosisDesc</th>\n",
       "      <th>TotalDiag</th>\n",
       "      <th>PrimaryDiag</th>\n",
       "      <th>SecondDiag</th>\n",
       "    </tr>\n",
       "  </thead>\n",
       "  <tbody>\n",
       "    <tr>\n",
       "      <th>0</th>\n",
       "      <td>A00.0</td>\n",
       "      <td>CHOLERA DUE TO VIBRIO CHOLERAE 01, BIOVAR CHOL...</td>\n",
       "      <td>5</td>\n",
       "      <td>1</td>\n",
       "      <td>4</td>\n",
       "    </tr>\n",
       "    <tr>\n",
       "      <th>1</th>\n",
       "      <td>A00.9</td>\n",
       "      <td>CHOLERA, UNSPECIFIED</td>\n",
       "      <td>4</td>\n",
       "      <td>1</td>\n",
       "      <td>3</td>\n",
       "    </tr>\n",
       "    <tr>\n",
       "      <th>2</th>\n",
       "      <td>A01.00</td>\n",
       "      <td>TYPHOID FEVER, UNSPECIFIED</td>\n",
       "      <td>56</td>\n",
       "      <td>27</td>\n",
       "      <td>29</td>\n",
       "    </tr>\n",
       "    <tr>\n",
       "      <th>3</th>\n",
       "      <td>A01.01</td>\n",
       "      <td>TYPHOID MENINGITIS</td>\n",
       "      <td>1</td>\n",
       "      <td>0</td>\n",
       "      <td>1</td>\n",
       "    </tr>\n",
       "    <tr>\n",
       "      <th>4</th>\n",
       "      <td>A01.02</td>\n",
       "      <td>TYPHOID FEVER WITH HEART INVOLVEMENT</td>\n",
       "      <td>1</td>\n",
       "      <td>0</td>\n",
       "      <td>1</td>\n",
       "    </tr>\n",
       "  </tbody>\n",
       "</table>\n",
       "</div>"
      ],
      "text/plain": [
       "  ICD10CMCODE                                      DiagnosisDesc TotalDiag  \\\n",
       "0       A00.0  CHOLERA DUE TO VIBRIO CHOLERAE 01, BIOVAR CHOL...         5   \n",
       "1       A00.9                               CHOLERA, UNSPECIFIED         4   \n",
       "2      A01.00                         TYPHOID FEVER, UNSPECIFIED        56   \n",
       "3      A01.01                                 TYPHOID MENINGITIS         1   \n",
       "4      A01.02               TYPHOID FEVER WITH HEART INVOLVEMENT         1   \n",
       "\n",
       "  PrimaryDiag SecondDiag  \n",
       "0           1          4  \n",
       "1           1          3  \n",
       "2          27         29  \n",
       "3           0          1  \n",
       "4           0          1  "
      ]
     },
     "execution_count": 4,
     "metadata": {},
     "output_type": "execute_result"
    }
   ],
   "source": [
    "dx_df.head()"
   ]
  },
  {
   "cell_type": "code",
   "execution_count": null,
   "metadata": {},
   "outputs": [],
   "source": []
  }
 ],
 "metadata": {
  "kernelspec": {
   "display_name": "test_udacity_hc_env",
   "language": "python",
   "name": "test_udacity_hc_env"
  },
  "language_info": {
   "codemirror_mode": {
    "name": "ipython",
    "version": 3
   },
   "file_extension": ".py",
   "mimetype": "text/x-python",
   "name": "python",
   "nbconvert_exporter": "python",
   "pygments_lexer": "ipython3",
   "version": "3.7.6"
  }
 },
 "nbformat": 4,
 "nbformat_minor": 4
}
