{
 "cells": [
  {
   "cell_type": "markdown",
   "metadata": {},
   "source": [
    "## Code Sets Exercise 1: Diagnose Code Grouping"
   ]
  },
  {
   "cell_type": "markdown",
   "metadata": {},
   "source": [
    "### Datasets from 2018 CA inpatient dataset - https://data.chhs.ca.gov/dataset/hospital-inpatient-diagnosis-procedure-and-external-cause-codes/\n",
    "- Attribution to CA https://data.chhs.ca.gov/pages/terms"
   ]
  },
  {
   "cell_type": "markdown",
   "metadata": {},
   "source": [
    "### Instructions\n",
    "- Please use the following dataset from the state of California that provides the total inpatient diagnosis counts using the ICD10 - CM code set. \n",
    "- Give the codes that have 'SEPSIS\" in the description (HINT: could use the str.contains function)\n",
    "- What percentage of primary diagnosis codes could be grouped at the category level with A41? \n",
    "- If you were to create a metacategory for sepsis, what percentage of secondary diagnosis codes would be grouped with using just the first character? "
   ]
  },
  {
   "cell_type": "code",
   "execution_count": 2,
   "metadata": {},
   "outputs": [],
   "source": [
    "import pandas as pd\n",
    "import numpy as np"
   ]
  },
  {
   "cell_type": "code",
   "execution_count": 3,
   "metadata": {},
   "outputs": [],
   "source": [
    "ca_icd_dx_path = \"./ICD-10-CM-Table 1.csv\"\n",
    "#last row is malformed\n",
    "dx_df = pd.read_csv(ca_icd_dx_path).fillna(0)[:-1]"
   ]
  },
  {
   "cell_type": "code",
   "execution_count": 4,
   "metadata": {},
   "outputs": [
    {
     "data": {
      "text/html": [
       "<div>\n",
       "<style scoped>\n",
       "    .dataframe tbody tr th:only-of-type {\n",
       "        vertical-align: middle;\n",
       "    }\n",
       "\n",
       "    .dataframe tbody tr th {\n",
       "        vertical-align: top;\n",
       "    }\n",
       "\n",
       "    .dataframe thead th {\n",
       "        text-align: right;\n",
       "    }\n",
       "</style>\n",
       "<table border=\"1\" class=\"dataframe\">\n",
       "  <thead>\n",
       "    <tr style=\"text-align: right;\">\n",
       "      <th></th>\n",
       "      <th>ICD10CMCODE</th>\n",
       "      <th>DiagnosisDesc</th>\n",
       "      <th>TotalDiag</th>\n",
       "      <th>PrimaryDiag</th>\n",
       "      <th>SecondDiag</th>\n",
       "    </tr>\n",
       "  </thead>\n",
       "  <tbody>\n",
       "    <tr>\n",
       "      <th>0</th>\n",
       "      <td>A00.0</td>\n",
       "      <td>CHOLERA DUE TO VIBRIO CHOLERAE 01, BIOVAR CHOL...</td>\n",
       "      <td>5</td>\n",
       "      <td>1</td>\n",
       "      <td>4</td>\n",
       "    </tr>\n",
       "    <tr>\n",
       "      <th>1</th>\n",
       "      <td>A00.9</td>\n",
       "      <td>CHOLERA, UNSPECIFIED</td>\n",
       "      <td>4</td>\n",
       "      <td>1</td>\n",
       "      <td>3</td>\n",
       "    </tr>\n",
       "    <tr>\n",
       "      <th>2</th>\n",
       "      <td>A01.00</td>\n",
       "      <td>TYPHOID FEVER, UNSPECIFIED</td>\n",
       "      <td>56</td>\n",
       "      <td>27</td>\n",
       "      <td>29</td>\n",
       "    </tr>\n",
       "    <tr>\n",
       "      <th>3</th>\n",
       "      <td>A01.01</td>\n",
       "      <td>TYPHOID MENINGITIS</td>\n",
       "      <td>1</td>\n",
       "      <td>0</td>\n",
       "      <td>1</td>\n",
       "    </tr>\n",
       "    <tr>\n",
       "      <th>4</th>\n",
       "      <td>A01.02</td>\n",
       "      <td>TYPHOID FEVER WITH HEART INVOLVEMENT</td>\n",
       "      <td>1</td>\n",
       "      <td>0</td>\n",
       "      <td>1</td>\n",
       "    </tr>\n",
       "  </tbody>\n",
       "</table>\n",
       "</div>"
      ],
      "text/plain": [
       "  ICD10CMCODE                                      DiagnosisDesc TotalDiag  \\\n",
       "0       A00.0  CHOLERA DUE TO VIBRIO CHOLERAE 01, BIOVAR CHOL...         5   \n",
       "1       A00.9                               CHOLERA, UNSPECIFIED         4   \n",
       "2      A01.00                         TYPHOID FEVER, UNSPECIFIED        56   \n",
       "3      A01.01                                 TYPHOID MENINGITIS         1   \n",
       "4      A01.02               TYPHOID FEVER WITH HEART INVOLVEMENT         1   \n",
       "\n",
       "  PrimaryDiag SecondDiag  \n",
       "0           1          4  \n",
       "1           1          3  \n",
       "2          27         29  \n",
       "3           0          1  \n",
       "4           0          1  "
      ]
     },
     "execution_count": 4,
     "metadata": {},
     "output_type": "execute_result"
    }
   ],
   "source": [
    "dx_df.head()"
   ]
  },
  {
   "cell_type": "markdown",
   "metadata": {},
   "source": [
    "### Solution"
   ]
  },
  {
   "cell_type": "markdown",
   "metadata": {},
   "source": [
    "- Give the codes that have 'SEPSIS\" in the description"
   ]
  },
  {
   "cell_type": "code",
   "execution_count": 5,
   "metadata": {},
   "outputs": [
    {
     "data": {
      "text/html": [
       "<div>\n",
       "<style scoped>\n",
       "    .dataframe tbody tr th:only-of-type {\n",
       "        vertical-align: middle;\n",
       "    }\n",
       "\n",
       "    .dataframe tbody tr th {\n",
       "        vertical-align: top;\n",
       "    }\n",
       "\n",
       "    .dataframe thead th {\n",
       "        text-align: right;\n",
       "    }\n",
       "</style>\n",
       "<table border=\"1\" class=\"dataframe\">\n",
       "  <thead>\n",
       "    <tr style=\"text-align: right;\">\n",
       "      <th></th>\n",
       "      <th>ICD10CMCODE</th>\n",
       "      <th>DiagnosisDesc</th>\n",
       "      <th>TotalDiag</th>\n",
       "      <th>PrimaryDiag</th>\n",
       "      <th>SecondDiag</th>\n",
       "    </tr>\n",
       "  </thead>\n",
       "  <tbody>\n",
       "    <tr>\n",
       "      <th>8</th>\n",
       "      <td>A02.1</td>\n",
       "      <td>SALMONELLA SEPSIS</td>\n",
       "      <td>280</td>\n",
       "      <td>255</td>\n",
       "      <td>25</td>\n",
       "    </tr>\n",
       "    <tr>\n",
       "      <th>115</th>\n",
       "      <td>A22.7</td>\n",
       "      <td>ANTHRAX SEPSIS</td>\n",
       "      <td>3</td>\n",
       "      <td>0</td>\n",
       "      <td>3</td>\n",
       "    </tr>\n",
       "    <tr>\n",
       "      <th>129</th>\n",
       "      <td>A26.7</td>\n",
       "      <td>ERYSIPELOTHRIX SEPSIS</td>\n",
       "      <td>4</td>\n",
       "      <td>1</td>\n",
       "      <td>3</td>\n",
       "    </tr>\n",
       "    <tr>\n",
       "      <th>150</th>\n",
       "      <td>A32.7</td>\n",
       "      <td>LISTERIAL SEPSIS</td>\n",
       "      <td>38</td>\n",
       "      <td>32</td>\n",
       "      <td>6</td>\n",
       "    </tr>\n",
       "    <tr>\n",
       "      <th>183</th>\n",
       "      <td>A40.0</td>\n",
       "      <td>SEPSIS DUE TO STREPTOCOCCUS, GROUP A</td>\n",
       "      <td>1929</td>\n",
       "      <td>1651</td>\n",
       "      <td>278</td>\n",
       "    </tr>\n",
       "    <tr>\n",
       "      <th>184</th>\n",
       "      <td>A40.1</td>\n",
       "      <td>SEPSIS DUE TO STREPTOCOCCUS, GROUP B</td>\n",
       "      <td>2044</td>\n",
       "      <td>1717</td>\n",
       "      <td>327</td>\n",
       "    </tr>\n",
       "    <tr>\n",
       "      <th>185</th>\n",
       "      <td>A40.3</td>\n",
       "      <td>SEPSIS DUE TO STREPTOCOCCUS PNEUMONIAE</td>\n",
       "      <td>2288</td>\n",
       "      <td>2089</td>\n",
       "      <td>199</td>\n",
       "    </tr>\n",
       "    <tr>\n",
       "      <th>186</th>\n",
       "      <td>A40.8</td>\n",
       "      <td>OTHER STREPTOCOCCAL SEPSIS</td>\n",
       "      <td>2943</td>\n",
       "      <td>2235</td>\n",
       "      <td>708</td>\n",
       "    </tr>\n",
       "    <tr>\n",
       "      <th>187</th>\n",
       "      <td>A40.9</td>\n",
       "      <td>STREPTOCOCCAL SEPSIS, UNSPECIFIED</td>\n",
       "      <td>1815</td>\n",
       "      <td>1464</td>\n",
       "      <td>351</td>\n",
       "    </tr>\n",
       "    <tr>\n",
       "      <th>188</th>\n",
       "      <td>A41.01</td>\n",
       "      <td>SEPSIS DUE TO METHICILLIN SUSCEPTIBLE STAPHYLO...</td>\n",
       "      <td>8865</td>\n",
       "      <td>5791</td>\n",
       "      <td>3074</td>\n",
       "    </tr>\n",
       "    <tr>\n",
       "      <th>189</th>\n",
       "      <td>A41.02</td>\n",
       "      <td>SEPSIS DUE TO METHICILLIN RESISTANT STAPHYLOCO...</td>\n",
       "      <td>6992</td>\n",
       "      <td>4722</td>\n",
       "      <td>2270</td>\n",
       "    </tr>\n",
       "    <tr>\n",
       "      <th>190</th>\n",
       "      <td>A41.1</td>\n",
       "      <td>SEPSIS DUE TO OTHER SPECIFIED STAPHYLOCOCCUS</td>\n",
       "      <td>2749</td>\n",
       "      <td>1587</td>\n",
       "      <td>1162</td>\n",
       "    </tr>\n",
       "    <tr>\n",
       "      <th>191</th>\n",
       "      <td>A41.2</td>\n",
       "      <td>SEPSIS DUE TO UNSPECIFIED STAPHYLOCOCCUS</td>\n",
       "      <td>742</td>\n",
       "      <td>479</td>\n",
       "      <td>263</td>\n",
       "    </tr>\n",
       "    <tr>\n",
       "      <th>192</th>\n",
       "      <td>A41.3</td>\n",
       "      <td>SEPSIS DUE TO HEMOPHILUS INFLUENZAE</td>\n",
       "      <td>390</td>\n",
       "      <td>319</td>\n",
       "      <td>71</td>\n",
       "    </tr>\n",
       "    <tr>\n",
       "      <th>193</th>\n",
       "      <td>A41.4</td>\n",
       "      <td>SEPSIS DUE TO ANAEROBES</td>\n",
       "      <td>2562</td>\n",
       "      <td>1938</td>\n",
       "      <td>624</td>\n",
       "    </tr>\n",
       "    <tr>\n",
       "      <th>194</th>\n",
       "      <td>A41.50</td>\n",
       "      <td>GRAM-NEGATIVE SEPSIS, UNSPECIFIED</td>\n",
       "      <td>4198</td>\n",
       "      <td>3200</td>\n",
       "      <td>998</td>\n",
       "    </tr>\n",
       "    <tr>\n",
       "      <th>195</th>\n",
       "      <td>A41.51</td>\n",
       "      <td>SEPSIS DUE TO ESCHERICHIA COLI [E. COLI]</td>\n",
       "      <td>26390</td>\n",
       "      <td>22069</td>\n",
       "      <td>4321</td>\n",
       "    </tr>\n",
       "    <tr>\n",
       "      <th>196</th>\n",
       "      <td>A41.52</td>\n",
       "      <td>SEPSIS DUE TO PSEUDOMONAS</td>\n",
       "      <td>3847</td>\n",
       "      <td>2310</td>\n",
       "      <td>1537</td>\n",
       "    </tr>\n",
       "    <tr>\n",
       "      <th>197</th>\n",
       "      <td>A41.53</td>\n",
       "      <td>SEPSIS DUE TO SERRATIA</td>\n",
       "      <td>672</td>\n",
       "      <td>330</td>\n",
       "      <td>342</td>\n",
       "    </tr>\n",
       "    <tr>\n",
       "      <th>198</th>\n",
       "      <td>A41.59</td>\n",
       "      <td>OTHER GRAM-NEGATIVE SEPSIS</td>\n",
       "      <td>9866</td>\n",
       "      <td>6734</td>\n",
       "      <td>3132</td>\n",
       "    </tr>\n",
       "    <tr>\n",
       "      <th>199</th>\n",
       "      <td>A41.81</td>\n",
       "      <td>SEPSIS DUE TO ENTEROCOCCUS</td>\n",
       "      <td>5336</td>\n",
       "      <td>3012</td>\n",
       "      <td>2324</td>\n",
       "    </tr>\n",
       "    <tr>\n",
       "      <th>200</th>\n",
       "      <td>A41.89</td>\n",
       "      <td>OTHER SPECIFIED SEPSIS</td>\n",
       "      <td>11690</td>\n",
       "      <td>9242</td>\n",
       "      <td>2448</td>\n",
       "    </tr>\n",
       "    <tr>\n",
       "      <th>201</th>\n",
       "      <td>A41.9</td>\n",
       "      <td>SEPSIS, UNSPECIFIED ORGANISM</td>\n",
       "      <td>264761</td>\n",
       "      <td>220191</td>\n",
       "      <td>44570</td>\n",
       "    </tr>\n",
       "    <tr>\n",
       "      <th>205</th>\n",
       "      <td>A42.7</td>\n",
       "      <td>ACTINOMYCOTIC SEPSIS</td>\n",
       "      <td>45</td>\n",
       "      <td>28</td>\n",
       "      <td>17</td>\n",
       "    </tr>\n",
       "    <tr>\n",
       "      <th>302</th>\n",
       "      <td>A54.86</td>\n",
       "      <td>GONOCOCCAL SEPSIS</td>\n",
       "      <td>39</td>\n",
       "      <td>36</td>\n",
       "      <td>3</td>\n",
       "    </tr>\n",
       "    <tr>\n",
       "      <th>568</th>\n",
       "      <td>B37.7</td>\n",
       "      <td>CANDIDAL SEPSIS</td>\n",
       "      <td>1885</td>\n",
       "      <td>635</td>\n",
       "      <td>1250</td>\n",
       "    </tr>\n",
       "    <tr>\n",
       "      <th>14255</th>\n",
       "      <td>O03.37</td>\n",
       "      <td>SEPSIS FOLLOWING INCOMPLETE SPONTANEOUS ABORTION</td>\n",
       "      <td>112</td>\n",
       "      <td>101</td>\n",
       "      <td>11</td>\n",
       "    </tr>\n",
       "    <tr>\n",
       "      <th>14267</th>\n",
       "      <td>O03.87</td>\n",
       "      <td>SEPSIS FOLLOWING COMPLETE OR UNSP SPONTANEOUS ...</td>\n",
       "      <td>79</td>\n",
       "      <td>66</td>\n",
       "      <td>13</td>\n",
       "    </tr>\n",
       "    <tr>\n",
       "      <th>14279</th>\n",
       "      <td>O04.87</td>\n",
       "      <td>SEPSIS FOLLOWING (INDUCED) TERMINATION OF PREG...</td>\n",
       "      <td>16</td>\n",
       "      <td>15</td>\n",
       "      <td>1</td>\n",
       "    </tr>\n",
       "    <tr>\n",
       "      <th>14287</th>\n",
       "      <td>O07.37</td>\n",
       "      <td>SEPSIS FOLLOWING FAILED ATTEMPTED TERMINATION ...</td>\n",
       "      <td>8</td>\n",
       "      <td>7</td>\n",
       "      <td>1</td>\n",
       "    </tr>\n",
       "    <tr>\n",
       "      <th>14300</th>\n",
       "      <td>O08.82</td>\n",
       "      <td>SEPSIS FOLLOWING ECTOPIC AND MOLAR PREGNANCY</td>\n",
       "      <td>32</td>\n",
       "      <td>9</td>\n",
       "      <td>23</td>\n",
       "    </tr>\n",
       "    <tr>\n",
       "      <th>15360</th>\n",
       "      <td>O85.</td>\n",
       "      <td>PUERPERAL SEPSIS</td>\n",
       "      <td>1080</td>\n",
       "      <td>502</td>\n",
       "      <td>578</td>\n",
       "    </tr>\n",
       "    <tr>\n",
       "      <th>15366</th>\n",
       "      <td>O86.04</td>\n",
       "      <td>SEPSIS FOLLOWING AN OBSTETRICAL PROCEDURE</td>\n",
       "      <td>61</td>\n",
       "      <td>21</td>\n",
       "      <td>40</td>\n",
       "    </tr>\n",
       "    <tr>\n",
       "      <th>15864</th>\n",
       "      <td>P36.0</td>\n",
       "      <td>SEPSIS OF NEWBORN DUE TO STREPTOCOCCUS, GROUP B</td>\n",
       "      <td>142</td>\n",
       "      <td>38</td>\n",
       "      <td>104</td>\n",
       "    </tr>\n",
       "    <tr>\n",
       "      <th>15865</th>\n",
       "      <td>P36.10</td>\n",
       "      <td>SEPSIS OF NEWBORN DUE TO UNSPECIFIED STREPTOCOCCI</td>\n",
       "      <td>18</td>\n",
       "      <td>6</td>\n",
       "      <td>12</td>\n",
       "    </tr>\n",
       "    <tr>\n",
       "      <th>15866</th>\n",
       "      <td>P36.19</td>\n",
       "      <td>SEPSIS OF NEWBORN DUE TO OTHER STREPTOCOCCI</td>\n",
       "      <td>54</td>\n",
       "      <td>12</td>\n",
       "      <td>42</td>\n",
       "    </tr>\n",
       "    <tr>\n",
       "      <th>15867</th>\n",
       "      <td>P36.2</td>\n",
       "      <td>SEPSIS OF NEWBORN DUE TO STAPHYLOCOCCUS AUREUS</td>\n",
       "      <td>82</td>\n",
       "      <td>13</td>\n",
       "      <td>69</td>\n",
       "    </tr>\n",
       "    <tr>\n",
       "      <th>15868</th>\n",
       "      <td>P36.30</td>\n",
       "      <td>SEPSIS OF NEWBORN DUE TO UNSPECIFIED STAPHYLOC...</td>\n",
       "      <td>16</td>\n",
       "      <td>1</td>\n",
       "      <td>15</td>\n",
       "    </tr>\n",
       "    <tr>\n",
       "      <th>15869</th>\n",
       "      <td>P36.39</td>\n",
       "      <td>SEPSIS OF NEWBORN DUE TO OTHER STAPHYLOCOCCI</td>\n",
       "      <td>102</td>\n",
       "      <td>16</td>\n",
       "      <td>86</td>\n",
       "    </tr>\n",
       "    <tr>\n",
       "      <th>15870</th>\n",
       "      <td>P36.4</td>\n",
       "      <td>SEPSIS OF NEWBORN DUE TO ESCHERICHIA COLI</td>\n",
       "      <td>244</td>\n",
       "      <td>80</td>\n",
       "      <td>164</td>\n",
       "    </tr>\n",
       "    <tr>\n",
       "      <th>15871</th>\n",
       "      <td>P36.5</td>\n",
       "      <td>SEPSIS OF NEWBORN DUE TO ANAEROBES</td>\n",
       "      <td>4</td>\n",
       "      <td>0</td>\n",
       "      <td>4</td>\n",
       "    </tr>\n",
       "    <tr>\n",
       "      <th>15872</th>\n",
       "      <td>P36.8</td>\n",
       "      <td>OTHER BACTERIAL SEPSIS OF NEWBORN</td>\n",
       "      <td>263</td>\n",
       "      <td>54</td>\n",
       "      <td>209</td>\n",
       "    </tr>\n",
       "    <tr>\n",
       "      <th>15873</th>\n",
       "      <td>P36.9</td>\n",
       "      <td>BACTERIAL SEPSIS OF NEWBORN, UNSPECIFIED</td>\n",
       "      <td>6993</td>\n",
       "      <td>658</td>\n",
       "      <td>6335</td>\n",
       "    </tr>\n",
       "    <tr>\n",
       "      <th>17308</th>\n",
       "      <td>R65.20</td>\n",
       "      <td>SEVERE SEPSIS WITHOUT SEPTIC SHOCK</td>\n",
       "      <td>77521</td>\n",
       "      <td>22</td>\n",
       "      <td>77499</td>\n",
       "    </tr>\n",
       "    <tr>\n",
       "      <th>17309</th>\n",
       "      <td>R65.21</td>\n",
       "      <td>SEVERE SEPSIS WITH SEPTIC SHOCK</td>\n",
       "      <td>74812</td>\n",
       "      <td>35</td>\n",
       "      <td>74777</td>\n",
       "    </tr>\n",
       "    <tr>\n",
       "      <th>32161</th>\n",
       "      <td>T81.44XA</td>\n",
       "      <td>SEPSIS FOLLOWING A PROCEDURE, INITIAL ENCOUNTER</td>\n",
       "      <td>787</td>\n",
       "      <td>293</td>\n",
       "      <td>494</td>\n",
       "    </tr>\n",
       "    <tr>\n",
       "      <th>32162</th>\n",
       "      <td>T81.44XD</td>\n",
       "      <td>SEPSIS FOLLOWING A PROCEDURE, SUBSEQUENT ENCOU...</td>\n",
       "      <td>4</td>\n",
       "      <td>1</td>\n",
       "      <td>3</td>\n",
       "    </tr>\n",
       "  </tbody>\n",
       "</table>\n",
       "</div>"
      ],
      "text/plain": [
       "      ICD10CMCODE                                      DiagnosisDesc  \\\n",
       "8           A02.1                                  SALMONELLA SEPSIS   \n",
       "115         A22.7                                     ANTHRAX SEPSIS   \n",
       "129         A26.7                              ERYSIPELOTHRIX SEPSIS   \n",
       "150         A32.7                                   LISTERIAL SEPSIS   \n",
       "183         A40.0               SEPSIS DUE TO STREPTOCOCCUS, GROUP A   \n",
       "184         A40.1               SEPSIS DUE TO STREPTOCOCCUS, GROUP B   \n",
       "185         A40.3             SEPSIS DUE TO STREPTOCOCCUS PNEUMONIAE   \n",
       "186         A40.8                         OTHER STREPTOCOCCAL SEPSIS   \n",
       "187         A40.9                  STREPTOCOCCAL SEPSIS, UNSPECIFIED   \n",
       "188        A41.01  SEPSIS DUE TO METHICILLIN SUSCEPTIBLE STAPHYLO...   \n",
       "189        A41.02  SEPSIS DUE TO METHICILLIN RESISTANT STAPHYLOCO...   \n",
       "190         A41.1       SEPSIS DUE TO OTHER SPECIFIED STAPHYLOCOCCUS   \n",
       "191         A41.2           SEPSIS DUE TO UNSPECIFIED STAPHYLOCOCCUS   \n",
       "192         A41.3                SEPSIS DUE TO HEMOPHILUS INFLUENZAE   \n",
       "193         A41.4                            SEPSIS DUE TO ANAEROBES   \n",
       "194        A41.50                  GRAM-NEGATIVE SEPSIS, UNSPECIFIED   \n",
       "195        A41.51           SEPSIS DUE TO ESCHERICHIA COLI [E. COLI]   \n",
       "196        A41.52                          SEPSIS DUE TO PSEUDOMONAS   \n",
       "197        A41.53                             SEPSIS DUE TO SERRATIA   \n",
       "198        A41.59                         OTHER GRAM-NEGATIVE SEPSIS   \n",
       "199        A41.81                         SEPSIS DUE TO ENTEROCOCCUS   \n",
       "200        A41.89                             OTHER SPECIFIED SEPSIS   \n",
       "201         A41.9                       SEPSIS, UNSPECIFIED ORGANISM   \n",
       "205         A42.7                               ACTINOMYCOTIC SEPSIS   \n",
       "302        A54.86                                  GONOCOCCAL SEPSIS   \n",
       "568         B37.7                                    CANDIDAL SEPSIS   \n",
       "14255      O03.37   SEPSIS FOLLOWING INCOMPLETE SPONTANEOUS ABORTION   \n",
       "14267      O03.87  SEPSIS FOLLOWING COMPLETE OR UNSP SPONTANEOUS ...   \n",
       "14279      O04.87  SEPSIS FOLLOWING (INDUCED) TERMINATION OF PREG...   \n",
       "14287      O07.37  SEPSIS FOLLOWING FAILED ATTEMPTED TERMINATION ...   \n",
       "14300      O08.82       SEPSIS FOLLOWING ECTOPIC AND MOLAR PREGNANCY   \n",
       "15360        O85.                                   PUERPERAL SEPSIS   \n",
       "15366      O86.04          SEPSIS FOLLOWING AN OBSTETRICAL PROCEDURE   \n",
       "15864       P36.0    SEPSIS OF NEWBORN DUE TO STREPTOCOCCUS, GROUP B   \n",
       "15865      P36.10  SEPSIS OF NEWBORN DUE TO UNSPECIFIED STREPTOCOCCI   \n",
       "15866      P36.19        SEPSIS OF NEWBORN DUE TO OTHER STREPTOCOCCI   \n",
       "15867       P36.2     SEPSIS OF NEWBORN DUE TO STAPHYLOCOCCUS AUREUS   \n",
       "15868      P36.30  SEPSIS OF NEWBORN DUE TO UNSPECIFIED STAPHYLOC...   \n",
       "15869      P36.39       SEPSIS OF NEWBORN DUE TO OTHER STAPHYLOCOCCI   \n",
       "15870       P36.4          SEPSIS OF NEWBORN DUE TO ESCHERICHIA COLI   \n",
       "15871       P36.5                 SEPSIS OF NEWBORN DUE TO ANAEROBES   \n",
       "15872       P36.8                  OTHER BACTERIAL SEPSIS OF NEWBORN   \n",
       "15873       P36.9           BACTERIAL SEPSIS OF NEWBORN, UNSPECIFIED   \n",
       "17308      R65.20                 SEVERE SEPSIS WITHOUT SEPTIC SHOCK   \n",
       "17309      R65.21                    SEVERE SEPSIS WITH SEPTIC SHOCK   \n",
       "32161    T81.44XA    SEPSIS FOLLOWING A PROCEDURE, INITIAL ENCOUNTER   \n",
       "32162    T81.44XD  SEPSIS FOLLOWING A PROCEDURE, SUBSEQUENT ENCOU...   \n",
       "\n",
       "      TotalDiag PrimaryDiag SecondDiag  \n",
       "8           280         255         25  \n",
       "115           3           0          3  \n",
       "129           4           1          3  \n",
       "150          38          32          6  \n",
       "183        1929        1651        278  \n",
       "184        2044        1717        327  \n",
       "185        2288        2089        199  \n",
       "186        2943        2235        708  \n",
       "187        1815        1464        351  \n",
       "188        8865        5791       3074  \n",
       "189        6992        4722       2270  \n",
       "190        2749        1587       1162  \n",
       "191         742         479        263  \n",
       "192         390         319         71  \n",
       "193        2562        1938        624  \n",
       "194        4198        3200        998  \n",
       "195       26390       22069       4321  \n",
       "196        3847        2310       1537  \n",
       "197         672         330        342  \n",
       "198        9866        6734       3132  \n",
       "199        5336        3012       2324  \n",
       "200       11690        9242       2448  \n",
       "201      264761      220191      44570  \n",
       "205          45          28         17  \n",
       "302          39          36          3  \n",
       "568        1885         635       1250  \n",
       "14255       112         101         11  \n",
       "14267        79          66         13  \n",
       "14279        16          15          1  \n",
       "14287         8           7          1  \n",
       "14300        32           9         23  \n",
       "15360      1080         502        578  \n",
       "15366        61          21         40  \n",
       "15864       142          38        104  \n",
       "15865        18           6         12  \n",
       "15866        54          12         42  \n",
       "15867        82          13         69  \n",
       "15868        16           1         15  \n",
       "15869       102          16         86  \n",
       "15870       244          80        164  \n",
       "15871         4           0          4  \n",
       "15872       263          54        209  \n",
       "15873      6993         658       6335  \n",
       "17308     77521          22      77499  \n",
       "17309     74812          35      74777  \n",
       "32161       787         293        494  \n",
       "32162         4           1          3  "
      ]
     },
     "execution_count": 5,
     "metadata": {},
     "output_type": "execute_result"
    }
   ],
   "source": [
    "sepsis_df = dx_df[dx_df['DiagnosisDesc'].str.contains('SEPSIS')]\n",
    "sepsis_df"
   ]
  },
  {
   "cell_type": "markdown",
   "metadata": {},
   "source": [
    "- What percentage of primary diagnosis codes could be grouped at the category level with A41? "
   ]
  },
  {
   "cell_type": "code",
   "execution_count": 6,
   "metadata": {},
   "outputs": [
    {
     "data": {
      "text/plain": [
       "281924"
      ]
     },
     "execution_count": 6,
     "metadata": {},
     "output_type": "execute_result"
    }
   ],
   "source": [
    "a41_cat_level_sum = sum(sepsis_df[sepsis_df['ICD10CMCODE'].str.startswith('A41')]['PrimaryDiag'].astype(int))\n",
    "a41_cat_level_sum"
   ]
  },
  {
   "cell_type": "code",
   "execution_count": 7,
   "metadata": {},
   "outputs": [
    {
     "data": {
      "text/plain": [
       "294017"
      ]
     },
     "execution_count": 7,
     "metadata": {},
     "output_type": "execute_result"
    }
   ],
   "source": [
    "total_primary_dx = sum(sepsis_df['PrimaryDiag'].astype(int))\n",
    "total_primary_dx"
   ]
  },
  {
   "cell_type": "code",
   "execution_count": 8,
   "metadata": {},
   "outputs": [
    {
     "data": {
      "text/plain": [
       "0.9588697252199703"
      ]
     },
     "execution_count": 8,
     "metadata": {},
     "output_type": "execute_result"
    }
   ],
   "source": [
    "float(a41_cat_level_sum/total_primary_dx)"
   ]
  },
  {
   "cell_type": "markdown",
   "metadata": {},
   "source": [
    "- If you were to create a metacategory for sepsis, what percentage of secondary diagnosis codes would be grouped with using the first character as A? "
   ]
  },
  {
   "cell_type": "code",
   "execution_count": 9,
   "metadata": {},
   "outputs": [
    {
     "data": {
      "text/plain": [
       "69056"
      ]
     },
     "execution_count": 9,
     "metadata": {},
     "output_type": "execute_result"
    }
   ],
   "source": [
    "a_cat_level_sum = sum(sepsis_df[sepsis_df['ICD10CMCODE'].str.startswith('A')]['SecondDiag'].astype(int))\n",
    "a_cat_level_sum"
   ]
  },
  {
   "cell_type": "code",
   "execution_count": 10,
   "metadata": {},
   "outputs": [
    {
     "data": {
      "text/plain": [
       "230786"
      ]
     },
     "execution_count": 10,
     "metadata": {},
     "output_type": "execute_result"
    }
   ],
   "source": [
    "total_secondary_dx = sum(sepsis_df['SecondDiag'].astype(int))\n",
    "total_secondary_dx"
   ]
  },
  {
   "cell_type": "code",
   "execution_count": 11,
   "metadata": {},
   "outputs": [
    {
     "data": {
      "text/plain": [
       "0.299220923279575"
      ]
     },
     "execution_count": 11,
     "metadata": {},
     "output_type": "execute_result"
    }
   ],
   "source": [
    "float(a_cat_level_sum/total_secondary_dx)"
   ]
  },
  {
   "cell_type": "markdown",
   "metadata": {},
   "source": [
    "## Code Sets Exercise 2: Procedure Code Grouping"
   ]
  },
  {
   "cell_type": "markdown",
   "metadata": {},
   "source": [
    "### Datasets from 2018 CA inpatient dataset - https://data.chhs.ca.gov/dataset/hospital-inpatient-diagnosis-procedure-and-external-cause-codes/\n",
    "- Attribution to CA https://data.chhs.ca.gov/pages/terms"
   ]
  },
  {
   "cell_type": "markdown",
   "metadata": {},
   "source": [
    "### Instructions\n",
    "- Please use the following dataset from the state of California that provides the total inpatient diagnosis counts using the ICD10 - PCS code set. \n",
    "- Give the codes that have 'CORONARY ARTERY\" in the description\n",
    "- What percentage of primary procedure codes could be grouped at the B category level? \n",
    "- What is the most number of characters that you can use to group secondary procedure codes and be above Z %? \n"
   ]
  },
  {
   "cell_type": "code",
   "execution_count": 12,
   "metadata": {},
   "outputs": [],
   "source": [
    "ca_icd_pc_path = './ICD-10-PCS-Table 1.csv'"
   ]
  },
  {
   "cell_type": "code",
   "execution_count": 13,
   "metadata": {},
   "outputs": [],
   "source": [
    "#last row is malformed\n",
    "proc_df = pd.read_csv(ca_icd_pc_path).fillna(0)[:-1]"
   ]
  },
  {
   "cell_type": "code",
   "execution_count": 14,
   "metadata": {},
   "outputs": [
    {
     "data": {
      "text/html": [
       "<div>\n",
       "<style scoped>\n",
       "    .dataframe tbody tr th:only-of-type {\n",
       "        vertical-align: middle;\n",
       "    }\n",
       "\n",
       "    .dataframe tbody tr th {\n",
       "        vertical-align: top;\n",
       "    }\n",
       "\n",
       "    .dataframe thead th {\n",
       "        text-align: right;\n",
       "    }\n",
       "</style>\n",
       "<table border=\"1\" class=\"dataframe\">\n",
       "  <thead>\n",
       "    <tr style=\"text-align: right;\">\n",
       "      <th></th>\n",
       "      <th>ProcedureCode</th>\n",
       "      <th>ProcedureDesc</th>\n",
       "      <th>TotalProc</th>\n",
       "      <th>PrimaryProc</th>\n",
       "      <th>SecondProc</th>\n",
       "    </tr>\n",
       "  </thead>\n",
       "  <tbody>\n",
       "    <tr>\n",
       "      <th>0</th>\n",
       "      <td>0016073</td>\n",
       "      <td>BYPASS CEREB VENT TO BLOOD VESS W AUTOL SUB, OPEN</td>\n",
       "      <td>2</td>\n",
       "      <td>0</td>\n",
       "      <td>2</td>\n",
       "    </tr>\n",
       "    <tr>\n",
       "      <th>1</th>\n",
       "      <td>00160J2</td>\n",
       "      <td>BYPASS CEREB VENT TO ATRIUM WITH SYNTH SUB, OP...</td>\n",
       "      <td>17</td>\n",
       "      <td>8</td>\n",
       "      <td>9</td>\n",
       "    </tr>\n",
       "    <tr>\n",
       "      <th>2</th>\n",
       "      <td>00160J4</td>\n",
       "      <td>BYPASS CEREB VENT TO PLEURAL CAV W SYNTH SUB, ...</td>\n",
       "      <td>17</td>\n",
       "      <td>6</td>\n",
       "      <td>11</td>\n",
       "    </tr>\n",
       "    <tr>\n",
       "      <th>3</th>\n",
       "      <td>00160J6</td>\n",
       "      <td>BYPASS CEREB VENT TO PERITON CAV W SYNTH SUB, ...</td>\n",
       "      <td>1372</td>\n",
       "      <td>796</td>\n",
       "      <td>576</td>\n",
       "    </tr>\n",
       "    <tr>\n",
       "      <th>4</th>\n",
       "      <td>00160JB</td>\n",
       "      <td>BYPASS CEREB VENT TO CEREB CISTERN W SYNTH SUB...</td>\n",
       "      <td>46</td>\n",
       "      <td>17</td>\n",
       "      <td>29</td>\n",
       "    </tr>\n",
       "  </tbody>\n",
       "</table>\n",
       "</div>"
      ],
      "text/plain": [
       "  ProcedureCode                                      ProcedureDesc TotalProc  \\\n",
       "0       0016073  BYPASS CEREB VENT TO BLOOD VESS W AUTOL SUB, OPEN         2   \n",
       "1       00160J2  BYPASS CEREB VENT TO ATRIUM WITH SYNTH SUB, OP...        17   \n",
       "2       00160J4  BYPASS CEREB VENT TO PLEURAL CAV W SYNTH SUB, ...        17   \n",
       "3       00160J6  BYPASS CEREB VENT TO PERITON CAV W SYNTH SUB, ...      1372   \n",
       "4       00160JB  BYPASS CEREB VENT TO CEREB CISTERN W SYNTH SUB...        46   \n",
       "\n",
       "  PrimaryProc SecondProc  \n",
       "0           0          2  \n",
       "1           8          9  \n",
       "2           6         11  \n",
       "3         796        576  \n",
       "4          17         29  "
      ]
     },
     "execution_count": 14,
     "metadata": {},
     "output_type": "execute_result"
    }
   ],
   "source": [
    "proc_df.head()"
   ]
  },
  {
   "cell_type": "markdown",
   "metadata": {},
   "source": [
    "### Solution"
   ]
  },
  {
   "cell_type": "markdown",
   "metadata": {},
   "source": [
    "- Give the codes that have 'CORONARY ARTERY\" in the description"
   ]
  },
  {
   "cell_type": "code",
   "execution_count": 15,
   "metadata": {},
   "outputs": [
    {
     "data": {
      "text/html": [
       "<div>\n",
       "<style scoped>\n",
       "    .dataframe tbody tr th:only-of-type {\n",
       "        vertical-align: middle;\n",
       "    }\n",
       "\n",
       "    .dataframe tbody tr th {\n",
       "        vertical-align: top;\n",
       "    }\n",
       "\n",
       "    .dataframe thead th {\n",
       "        text-align: right;\n",
       "    }\n",
       "</style>\n",
       "<table border=\"1\" class=\"dataframe\">\n",
       "  <thead>\n",
       "    <tr style=\"text-align: right;\">\n",
       "      <th></th>\n",
       "      <th>ProcedureCode</th>\n",
       "      <th>ProcedureDesc</th>\n",
       "      <th>TotalProc</th>\n",
       "      <th>PrimaryProc</th>\n",
       "      <th>SecondProc</th>\n",
       "    </tr>\n",
       "  </thead>\n",
       "  <tbody>\n",
       "    <tr>\n",
       "      <th>1190</th>\n",
       "      <td>02700ZZ</td>\n",
       "      <td>DILATION OF CORONARY ARTERY, ONE ARTERY, OPEN ...</td>\n",
       "      <td>7</td>\n",
       "      <td>3</td>\n",
       "      <td>4</td>\n",
       "    </tr>\n",
       "    <tr>\n",
       "      <th>1209</th>\n",
       "      <td>02703ZZ</td>\n",
       "      <td>DILATION OF CORONARY ARTERY, ONE ARTERY, PERC ...</td>\n",
       "      <td>4216</td>\n",
       "      <td>1508</td>\n",
       "      <td>2708</td>\n",
       "    </tr>\n",
       "    <tr>\n",
       "      <th>1216</th>\n",
       "      <td>02704ZZ</td>\n",
       "      <td>DILATION OF CORONARY ARTERY, ONE ARTERY, PERC ...</td>\n",
       "      <td>17</td>\n",
       "      <td>4</td>\n",
       "      <td>13</td>\n",
       "    </tr>\n",
       "    <tr>\n",
       "      <th>1239</th>\n",
       "      <td>02713ZZ</td>\n",
       "      <td>DILATION OF CORONARY ARTERY, TWO ARTERIES, PER...</td>\n",
       "      <td>364</td>\n",
       "      <td>121</td>\n",
       "      <td>243</td>\n",
       "    </tr>\n",
       "    <tr>\n",
       "      <th>1262</th>\n",
       "      <td>02723ZZ</td>\n",
       "      <td>DILATION OF CORONARY ARTERY, THREE ARTERIES, P...</td>\n",
       "      <td>41</td>\n",
       "      <td>19</td>\n",
       "      <td>22</td>\n",
       "    </tr>\n",
       "    <tr>\n",
       "      <th>1661</th>\n",
       "      <td>02N00ZZ</td>\n",
       "      <td>RELEASE CORONARY ARTERY, ONE ARTERY, OPEN APPR...</td>\n",
       "      <td>51</td>\n",
       "      <td>33</td>\n",
       "      <td>18</td>\n",
       "    </tr>\n",
       "    <tr>\n",
       "      <th>1662</th>\n",
       "      <td>02N10ZZ</td>\n",
       "      <td>RELEASE CORONARY ARTERY, TWO ARTERIES, OPEN AP...</td>\n",
       "      <td>2</td>\n",
       "      <td>1</td>\n",
       "      <td>1</td>\n",
       "    </tr>\n",
       "    <tr>\n",
       "      <th>1741</th>\n",
       "      <td>02Q00ZZ</td>\n",
       "      <td>REPAIR CORONARY ARTERY, ONE ARTERY, OPEN APPROACH</td>\n",
       "      <td>87</td>\n",
       "      <td>26</td>\n",
       "      <td>61</td>\n",
       "    </tr>\n",
       "    <tr>\n",
       "      <th>1742</th>\n",
       "      <td>02Q03ZZ</td>\n",
       "      <td>REPAIR CORONARY ARTERY, ONE ARTERY, PERCUTANEO...</td>\n",
       "      <td>10</td>\n",
       "      <td>5</td>\n",
       "      <td>5</td>\n",
       "    </tr>\n",
       "    <tr>\n",
       "      <th>1743</th>\n",
       "      <td>02Q10ZZ</td>\n",
       "      <td>REPAIR CORONARY ARTERY, TWO ARTERIES, OPEN APP...</td>\n",
       "      <td>5</td>\n",
       "      <td>0</td>\n",
       "      <td>5</td>\n",
       "    </tr>\n",
       "    <tr>\n",
       "      <th>1744</th>\n",
       "      <td>02Q13ZZ</td>\n",
       "      <td>REPAIR CORONARY ARTERY, TWO ARTERIES, PERCUTAN...</td>\n",
       "      <td>1</td>\n",
       "      <td>1</td>\n",
       "      <td>0</td>\n",
       "    </tr>\n",
       "    <tr>\n",
       "      <th>1881</th>\n",
       "      <td>02S00ZZ</td>\n",
       "      <td>REPOSITION CORONARY ARTERY, ONE ARTERY, OPEN A...</td>\n",
       "      <td>98</td>\n",
       "      <td>56</td>\n",
       "      <td>42</td>\n",
       "    </tr>\n",
       "    <tr>\n",
       "      <th>1882</th>\n",
       "      <td>02S10ZZ</td>\n",
       "      <td>REPOSITION CORONARY ARTERY, TWO ARTERIES, OPEN...</td>\n",
       "      <td>153</td>\n",
       "      <td>34</td>\n",
       "      <td>119</td>\n",
       "    </tr>\n",
       "    <tr>\n",
       "      <th>26121</th>\n",
       "      <td>B2100ZZ</td>\n",
       "      <td>FLUOROSCOPY OF SINGLE CORONARY ARTERY USING H ...</td>\n",
       "      <td>4</td>\n",
       "      <td>0</td>\n",
       "      <td>4</td>\n",
       "    </tr>\n",
       "    <tr>\n",
       "      <th>26123</th>\n",
       "      <td>B2101ZZ</td>\n",
       "      <td>FLUOROSCOPY OF SINGLE CORONARY ARTERY USING L ...</td>\n",
       "      <td>1487</td>\n",
       "      <td>64</td>\n",
       "      <td>1423</td>\n",
       "    </tr>\n",
       "    <tr>\n",
       "      <th>26125</th>\n",
       "      <td>B210YZZ</td>\n",
       "      <td>FLUOROSCOPY OF SINGLE CORONARY ARTERY USING OT...</td>\n",
       "      <td>337</td>\n",
       "      <td>13</td>\n",
       "      <td>324</td>\n",
       "    </tr>\n",
       "    <tr>\n",
       "      <th>26178</th>\n",
       "      <td>B240YZZ</td>\n",
       "      <td>ULTRASONOGRAPHY OF SINGLE CORONARY ARTERY USIN...</td>\n",
       "      <td>10</td>\n",
       "      <td>0</td>\n",
       "      <td>10</td>\n",
       "    </tr>\n",
       "    <tr>\n",
       "      <th>26179</th>\n",
       "      <td>B240ZZ3</td>\n",
       "      <td>ULTRASONOGRAPHY OF SINGLE CORONARY ARTERY, INT...</td>\n",
       "      <td>2315</td>\n",
       "      <td>2</td>\n",
       "      <td>2313</td>\n",
       "    </tr>\n",
       "    <tr>\n",
       "      <th>26180</th>\n",
       "      <td>B240ZZ4</td>\n",
       "      <td>ULTRASONOGRAPHY OF SINGLE CORONARY ARTERY, TRA...</td>\n",
       "      <td>13</td>\n",
       "      <td>7</td>\n",
       "      <td>6</td>\n",
       "    </tr>\n",
       "    <tr>\n",
       "      <th>26181</th>\n",
       "      <td>B240ZZZ</td>\n",
       "      <td>ULTRASONOGRAPHY OF SINGLE CORONARY ARTERY</td>\n",
       "      <td>9</td>\n",
       "      <td>1</td>\n",
       "      <td>8</td>\n",
       "    </tr>\n",
       "  </tbody>\n",
       "</table>\n",
       "</div>"
      ],
      "text/plain": [
       "      ProcedureCode                                      ProcedureDesc  \\\n",
       "1190        02700ZZ  DILATION OF CORONARY ARTERY, ONE ARTERY, OPEN ...   \n",
       "1209        02703ZZ  DILATION OF CORONARY ARTERY, ONE ARTERY, PERC ...   \n",
       "1216        02704ZZ  DILATION OF CORONARY ARTERY, ONE ARTERY, PERC ...   \n",
       "1239        02713ZZ  DILATION OF CORONARY ARTERY, TWO ARTERIES, PER...   \n",
       "1262        02723ZZ  DILATION OF CORONARY ARTERY, THREE ARTERIES, P...   \n",
       "1661        02N00ZZ  RELEASE CORONARY ARTERY, ONE ARTERY, OPEN APPR...   \n",
       "1662        02N10ZZ  RELEASE CORONARY ARTERY, TWO ARTERIES, OPEN AP...   \n",
       "1741        02Q00ZZ  REPAIR CORONARY ARTERY, ONE ARTERY, OPEN APPROACH   \n",
       "1742        02Q03ZZ  REPAIR CORONARY ARTERY, ONE ARTERY, PERCUTANEO...   \n",
       "1743        02Q10ZZ  REPAIR CORONARY ARTERY, TWO ARTERIES, OPEN APP...   \n",
       "1744        02Q13ZZ  REPAIR CORONARY ARTERY, TWO ARTERIES, PERCUTAN...   \n",
       "1881        02S00ZZ  REPOSITION CORONARY ARTERY, ONE ARTERY, OPEN A...   \n",
       "1882        02S10ZZ  REPOSITION CORONARY ARTERY, TWO ARTERIES, OPEN...   \n",
       "26121       B2100ZZ  FLUOROSCOPY OF SINGLE CORONARY ARTERY USING H ...   \n",
       "26123       B2101ZZ  FLUOROSCOPY OF SINGLE CORONARY ARTERY USING L ...   \n",
       "26125       B210YZZ  FLUOROSCOPY OF SINGLE CORONARY ARTERY USING OT...   \n",
       "26178       B240YZZ  ULTRASONOGRAPHY OF SINGLE CORONARY ARTERY USIN...   \n",
       "26179       B240ZZ3  ULTRASONOGRAPHY OF SINGLE CORONARY ARTERY, INT...   \n",
       "26180       B240ZZ4  ULTRASONOGRAPHY OF SINGLE CORONARY ARTERY, TRA...   \n",
       "26181       B240ZZZ          ULTRASONOGRAPHY OF SINGLE CORONARY ARTERY   \n",
       "\n",
       "      TotalProc PrimaryProc SecondProc  \n",
       "1190          7           3          4  \n",
       "1209       4216        1508       2708  \n",
       "1216         17           4         13  \n",
       "1239        364         121        243  \n",
       "1262         41          19         22  \n",
       "1661         51          33         18  \n",
       "1662          2           1          1  \n",
       "1741         87          26         61  \n",
       "1742         10           5          5  \n",
       "1743          5           0          5  \n",
       "1744          1           1          0  \n",
       "1881         98          56         42  \n",
       "1882        153          34        119  \n",
       "26121         4           0          4  \n",
       "26123      1487          64       1423  \n",
       "26125       337          13        324  \n",
       "26178        10           0         10  \n",
       "26179      2315           2       2313  \n",
       "26180        13           7          6  \n",
       "26181         9           1          8  "
      ]
     },
     "execution_count": 15,
     "metadata": {},
     "output_type": "execute_result"
    }
   ],
   "source": [
    "coronary_df = proc_df[proc_df['ProcedureDesc'].str.contains('CORONARY ARTERY')]\n",
    "coronary_df"
   ]
  },
  {
   "cell_type": "markdown",
   "metadata": {},
   "source": [
    "- What percentage of primary procedure codes could be grouped at the B category level? "
   ]
  },
  {
   "cell_type": "code",
   "execution_count": 16,
   "metadata": {},
   "outputs": [
    {
     "data": {
      "text/plain": [
       "87"
      ]
     },
     "execution_count": 16,
     "metadata": {},
     "output_type": "execute_result"
    }
   ],
   "source": [
    "B_cat_level_sum = sum(coronary_df[coronary_df['ProcedureCode'].str.startswith('B')]['PrimaryProc'].astype(int))\n",
    "B_cat_level_sum"
   ]
  },
  {
   "cell_type": "code",
   "execution_count": 17,
   "metadata": {},
   "outputs": [
    {
     "data": {
      "text/plain": [
       "1898"
      ]
     },
     "execution_count": 17,
     "metadata": {},
     "output_type": "execute_result"
    }
   ],
   "source": [
    "total_primary_proc = sum(coronary_df['PrimaryProc'].astype(int))\n",
    "total_primary_proc"
   ]
  },
  {
   "cell_type": "code",
   "execution_count": 18,
   "metadata": {},
   "outputs": [
    {
     "data": {
      "text/plain": [
       "0.0458377239199157"
      ]
     },
     "execution_count": 18,
     "metadata": {},
     "output_type": "execute_result"
    }
   ],
   "source": [
    "float(B_cat_level_sum/total_primary_proc)"
   ]
  },
  {
   "cell_type": "markdown",
   "metadata": {},
   "source": [
    "- What is the highest percentage grouping you can make with 3 characters for the secondary procedure code? "
   ]
  },
  {
   "cell_type": "code",
   "execution_count": 19,
   "metadata": {},
   "outputs": [
    {
     "data": {
      "text/plain": [
       "{'027', '02N', '02Q', '02S', 'B21', 'B24'}"
      ]
     },
     "execution_count": 19,
     "metadata": {},
     "output_type": "execute_result"
    }
   ],
   "source": [
    "three_code_list = set(coronary_df['ProcedureCode'].str[0:3])\n",
    "three_code_list"
   ]
  },
  {
   "cell_type": "code",
   "execution_count": 20,
   "metadata": {},
   "outputs": [],
   "source": [
    "def calculate_percent_grouped(df, three_letter_code):\n",
    "    second_group_level_sum = sum(df[df['ProcedureCode'].str.startswith(three_letter_code)]['SecondProc'].astype(int))\n",
    "    total_secondary_proc = sum(df['SecondProc'].astype(int))\n",
    "    print(\"Three letter code:{}\\nPercent Grouped:{}\".format( three_letter_code, \n",
    "                                                            float(second_group_level_sum/total_secondary_proc)))"
   ]
  },
  {
   "cell_type": "code",
   "execution_count": 21,
   "metadata": {},
   "outputs": [
    {
     "name": "stdout",
     "output_type": "stream",
     "text": [
      "Three letter code:B21\n",
      "Percent Grouped:0.23891390367035067\n",
      "Three letter code:02N\n",
      "Percent Grouped:0.002592440987856461\n",
      "Three letter code:02S\n",
      "Percent Grouped:0.021967526265520534\n",
      "Three letter code:027\n",
      "Percent Grouped:0.40796834493109563\n",
      "Three letter code:B24\n",
      "Percent Grouped:0.31887024150634463\n",
      "Three letter code:02Q\n",
      "Percent Grouped:0.009687542638832036\n"
     ]
    }
   ],
   "source": [
    "for c in three_code_list:\n",
    "    calculate_percent_grouped(coronary_df, c)"
   ]
  },
  {
   "cell_type": "markdown",
   "metadata": {},
   "source": [
    "**Answer:** 027"
   ]
  },
  {
   "cell_type": "markdown",
   "metadata": {},
   "source": [
    "## Code Sets Exercise 3: Compare Grouping with CCS"
   ]
  },
  {
   "cell_type": "markdown",
   "metadata": {},
   "source": [
    "### ***Dataset***: \n",
    "- Clinical Classifications Software (CCS) for ICD-10-PCS (beta version). Healthcare Cost and Utilization Project (HCUP). November 2019. Agency for Healthcare Research and Quality, Rockville, MD. www.hcup-us.ahrq.gov/toolssoftware/ccs10/ccs10.jsp."
   ]
  },
  {
   "cell_type": "markdown",
   "metadata": {},
   "source": [
    "### Instructions\n",
    "- A. If you search the CCS_CATEGORY_DESCRIPTION for \"coronary\", what are the two single level categories that you find? What is/are the label(s) for the multi-level 1 categories?\n",
    "- B. Given CCS single level category 45, what do you notice about the ICD10 PCS Codes? Do they all have a similar character pattern?"
   ]
  },
  {
   "cell_type": "markdown",
   "metadata": {},
   "source": [
    "### Solution"
   ]
  },
  {
   "cell_type": "code",
   "execution_count": 29,
   "metadata": {},
   "outputs": [],
   "source": [
    "ccs_pcs_file_path = \"./clean_ccs_pr_icd10pcs.csv\""
   ]
  },
  {
   "cell_type": "code",
   "execution_count": 30,
   "metadata": {},
   "outputs": [],
   "source": [
    "ccs_pcs_df = pd.read_csv(ccs_pcs_file_path)"
   ]
  },
  {
   "cell_type": "markdown",
   "metadata": {},
   "source": [
    "#### Inspect the dataset schema and look at some example rows"
   ]
  },
  {
   "cell_type": "code",
   "execution_count": 35,
   "metadata": {},
   "outputs": [
    {
     "data": {
      "text/html": [
       "<div>\n",
       "<style scoped>\n",
       "    .dataframe tbody tr th:only-of-type {\n",
       "        vertical-align: middle;\n",
       "    }\n",
       "\n",
       "    .dataframe tbody tr th {\n",
       "        vertical-align: top;\n",
       "    }\n",
       "\n",
       "    .dataframe thead th {\n",
       "        text-align: right;\n",
       "    }\n",
       "</style>\n",
       "<table border=\"1\" class=\"dataframe\">\n",
       "  <thead>\n",
       "    <tr style=\"text-align: right;\">\n",
       "      <th></th>\n",
       "      <th>ICD10_PCS_CODE</th>\n",
       "      <th>CCS_CATEGORY</th>\n",
       "      <th>ICD10_PCS_CODE_DESCRIPTION</th>\n",
       "      <th>CCS_CATEGORY_DESCRIPTION</th>\n",
       "      <th>MULTI_CCS_LVL_1</th>\n",
       "      <th>MULTI_CCS_LVL_1_LABEL</th>\n",
       "      <th>MULTI_CCS_LVL_2</th>\n",
       "      <th>MULTI_CCS_LVL_2_LABEL</th>\n",
       "    </tr>\n",
       "  </thead>\n",
       "  <tbody>\n",
       "    <tr>\n",
       "      <th>0</th>\n",
       "      <td>00800ZZ</td>\n",
       "      <td>1</td>\n",
       "      <td>Division of Brain, Open Approach</td>\n",
       "      <td>Incision and excision of CNS</td>\n",
       "      <td>1</td>\n",
       "      <td>Operations on the nervous system</td>\n",
       "      <td>1.1</td>\n",
       "      <td>Incision and excision of CNS [1.]</td>\n",
       "    </tr>\n",
       "    <tr>\n",
       "      <th>1</th>\n",
       "      <td>00803ZZ</td>\n",
       "      <td>1</td>\n",
       "      <td>Division of Brain, Percutaneous Approach</td>\n",
       "      <td>Incision and excision of CNS</td>\n",
       "      <td>1</td>\n",
       "      <td>Operations on the nervous system</td>\n",
       "      <td>1.1</td>\n",
       "      <td>Incision and excision of CNS [1.]</td>\n",
       "    </tr>\n",
       "    <tr>\n",
       "      <th>2</th>\n",
       "      <td>00804ZZ</td>\n",
       "      <td>1</td>\n",
       "      <td>Division of Brain, Percutaneous Endoscopic App...</td>\n",
       "      <td>Incision and excision of CNS</td>\n",
       "      <td>1</td>\n",
       "      <td>Operations on the nervous system</td>\n",
       "      <td>1.1</td>\n",
       "      <td>Incision and excision of CNS [1.]</td>\n",
       "    </tr>\n",
       "    <tr>\n",
       "      <th>3</th>\n",
       "      <td>00870ZZ</td>\n",
       "      <td>1</td>\n",
       "      <td>Division of Cerebral Hemisphere, Open Approach</td>\n",
       "      <td>Incision and excision of CNS</td>\n",
       "      <td>1</td>\n",
       "      <td>Operations on the nervous system</td>\n",
       "      <td>1.1</td>\n",
       "      <td>Incision and excision of CNS [1.]</td>\n",
       "    </tr>\n",
       "    <tr>\n",
       "      <th>4</th>\n",
       "      <td>00873ZZ</td>\n",
       "      <td>1</td>\n",
       "      <td>Division of Cerebral Hemisphere, Percutaneous ...</td>\n",
       "      <td>Incision and excision of CNS</td>\n",
       "      <td>1</td>\n",
       "      <td>Operations on the nervous system</td>\n",
       "      <td>1.1</td>\n",
       "      <td>Incision and excision of CNS [1.]</td>\n",
       "    </tr>\n",
       "  </tbody>\n",
       "</table>\n",
       "</div>"
      ],
      "text/plain": [
       "  ICD10_PCS_CODE  CCS_CATEGORY  \\\n",
       "0        00800ZZ             1   \n",
       "1        00803ZZ             1   \n",
       "2        00804ZZ             1   \n",
       "3        00870ZZ             1   \n",
       "4        00873ZZ             1   \n",
       "\n",
       "                          ICD10_PCS_CODE_DESCRIPTION  \\\n",
       "0                   Division of Brain, Open Approach   \n",
       "1           Division of Brain, Percutaneous Approach   \n",
       "2  Division of Brain, Percutaneous Endoscopic App...   \n",
       "3     Division of Cerebral Hemisphere, Open Approach   \n",
       "4  Division of Cerebral Hemisphere, Percutaneous ...   \n",
       "\n",
       "       CCS_CATEGORY_DESCRIPTION  MULTI_CCS_LVL_1  \\\n",
       "0  Incision and excision of CNS                1   \n",
       "1  Incision and excision of CNS                1   \n",
       "2  Incision and excision of CNS                1   \n",
       "3  Incision and excision of CNS                1   \n",
       "4  Incision and excision of CNS                1   \n",
       "\n",
       "              MULTI_CCS_LVL_1_LABEL  MULTI_CCS_LVL_2  \\\n",
       "0  Operations on the nervous system              1.1   \n",
       "1  Operations on the nervous system              1.1   \n",
       "2  Operations on the nervous system              1.1   \n",
       "3  Operations on the nervous system              1.1   \n",
       "4  Operations on the nervous system              1.1   \n",
       "\n",
       "               MULTI_CCS_LVL_2_LABEL  \n",
       "0  Incision and excision of CNS [1.]  \n",
       "1  Incision and excision of CNS [1.]  \n",
       "2  Incision and excision of CNS [1.]  \n",
       "3  Incision and excision of CNS [1.]  \n",
       "4  Incision and excision of CNS [1.]  "
      ]
     },
     "execution_count": 35,
     "metadata": {},
     "output_type": "execute_result"
    }
   ],
   "source": [
    "ccs_pcs_df.head()"
   ]
  },
  {
   "cell_type": "markdown",
   "metadata": {},
   "source": [
    "#### A. If you search for CCS_CATEGORY_DESCRIPTION for \"coronary\", what are the two categories that you find?"
   ]
  },
  {
   "cell_type": "code",
   "execution_count": 36,
   "metadata": {},
   "outputs": [],
   "source": [
    "coronary_ccs_df = ccs_pcs_df[ccs_pcs_df['CCS_CATEGORY_DESCRIPTION'].str.contains('coronary')]"
   ]
  },
  {
   "cell_type": "code",
   "execution_count": 37,
   "metadata": {},
   "outputs": [
    {
     "data": {
      "text/plain": [
       "array([45, 47])"
      ]
     },
     "execution_count": 37,
     "metadata": {},
     "output_type": "execute_result"
    }
   ],
   "source": [
    "coronary_ccs_df.CCS_CATEGORY.unique()"
   ]
  },
  {
   "cell_type": "code",
   "execution_count": 38,
   "metadata": {},
   "outputs": [
    {
     "data": {
      "text/plain": [
       "array(['Percutaneous transluminal coronary angioplasty (PTCA) with or without stent placement',\n",
       "       'Diagnostic cardiac catheterization; coronary arteriography'],\n",
       "      dtype=object)"
      ]
     },
     "execution_count": 38,
     "metadata": {},
     "output_type": "execute_result"
    }
   ],
   "source": [
    "coronary_ccs_df.CCS_CATEGORY_DESCRIPTION.unique()"
   ]
  },
  {
   "cell_type": "markdown",
   "metadata": {},
   "source": [
    "#### What is/are the label(s) for the multi-level 1 categories?"
   ]
  },
  {
   "cell_type": "code",
   "execution_count": 39,
   "metadata": {},
   "outputs": [
    {
     "data": {
      "text/plain": [
       "array(['Operations on the cardiovascular system'], dtype=object)"
      ]
     },
     "execution_count": 39,
     "metadata": {},
     "output_type": "execute_result"
    }
   ],
   "source": [
    "coronary_ccs_df.MULTI_CCS_LVL_1_LABEL.unique()"
   ]
  },
  {
   "cell_type": "markdown",
   "metadata": {},
   "source": [
    "#### B. Given CCS single level category 45, what do you notice about the ICD10 PCS Codes? Do they all have a similar character pattern?"
   ]
  },
  {
   "cell_type": "code",
   "execution_count": 52,
   "metadata": {},
   "outputs": [],
   "source": [
    "cat_45_df = ccs_pcs_df[ccs_pcs_df['CCS_CATEGORY']==45]"
   ]
  },
  {
   "cell_type": "code",
   "execution_count": 53,
   "metadata": {},
   "outputs": [
    {
     "data": {
      "text/html": [
       "<div>\n",
       "<style scoped>\n",
       "    .dataframe tbody tr th:only-of-type {\n",
       "        vertical-align: middle;\n",
       "    }\n",
       "\n",
       "    .dataframe tbody tr th {\n",
       "        vertical-align: top;\n",
       "    }\n",
       "\n",
       "    .dataframe thead th {\n",
       "        text-align: right;\n",
       "    }\n",
       "</style>\n",
       "<table border=\"1\" class=\"dataframe\">\n",
       "  <thead>\n",
       "    <tr style=\"text-align: right;\">\n",
       "      <th></th>\n",
       "      <th>ICD10_PCS_CODE</th>\n",
       "      <th>CCS_CATEGORY</th>\n",
       "      <th>ICD10_PCS_CODE_DESCRIPTION</th>\n",
       "      <th>CCS_CATEGORY_DESCRIPTION</th>\n",
       "      <th>MULTI_CCS_LVL_1</th>\n",
       "      <th>MULTI_CCS_LVL_1_LABEL</th>\n",
       "      <th>MULTI_CCS_LVL_2</th>\n",
       "      <th>MULTI_CCS_LVL_2_LABEL</th>\n",
       "    </tr>\n",
       "  </thead>\n",
       "  <tbody>\n",
       "    <tr>\n",
       "      <th>12507</th>\n",
       "      <td>0270346</td>\n",
       "      <td>45</td>\n",
       "      <td>Dilate 1 Cor Art, Bifurc, w Drug-elut Intra, Perc</td>\n",
       "      <td>Percutaneous transluminal coronary angioplasty...</td>\n",
       "      <td>7</td>\n",
       "      <td>Operations on the cardiovascular system</td>\n",
       "      <td>7.3</td>\n",
       "      <td>Percutaneous transluminal coronary angioplasty...</td>\n",
       "    </tr>\n",
       "    <tr>\n",
       "      <th>12508</th>\n",
       "      <td>027034Z</td>\n",
       "      <td>45</td>\n",
       "      <td>Dilation of 1 Cor Art with Drug-elut Intra, Pe...</td>\n",
       "      <td>Percutaneous transluminal coronary angioplasty...</td>\n",
       "      <td>7</td>\n",
       "      <td>Operations on the cardiovascular system</td>\n",
       "      <td>7.3</td>\n",
       "      <td>Percutaneous transluminal coronary angioplasty...</td>\n",
       "    </tr>\n",
       "    <tr>\n",
       "      <th>12509</th>\n",
       "      <td>0270356</td>\n",
       "      <td>45</td>\n",
       "      <td>Dilate of 1 Cor Art, Bifurc, with 2 Drug-elut,...</td>\n",
       "      <td>Percutaneous transluminal coronary angioplasty...</td>\n",
       "      <td>7</td>\n",
       "      <td>Operations on the cardiovascular system</td>\n",
       "      <td>7.3</td>\n",
       "      <td>Percutaneous transluminal coronary angioplasty...</td>\n",
       "    </tr>\n",
       "    <tr>\n",
       "      <th>12510</th>\n",
       "      <td>027035Z</td>\n",
       "      <td>45</td>\n",
       "      <td>Dilation of 1 Cor Art with 2 Drug-elut, Perc A...</td>\n",
       "      <td>Percutaneous transluminal coronary angioplasty...</td>\n",
       "      <td>7</td>\n",
       "      <td>Operations on the cardiovascular system</td>\n",
       "      <td>7.3</td>\n",
       "      <td>Percutaneous transluminal coronary angioplasty...</td>\n",
       "    </tr>\n",
       "    <tr>\n",
       "      <th>12511</th>\n",
       "      <td>0270366</td>\n",
       "      <td>45</td>\n",
       "      <td>Dilate of 1 Cor Art, Bifurc, with 3 Drug-elut,...</td>\n",
       "      <td>Percutaneous transluminal coronary angioplasty...</td>\n",
       "      <td>7</td>\n",
       "      <td>Operations on the cardiovascular system</td>\n",
       "      <td>7.3</td>\n",
       "      <td>Percutaneous transluminal coronary angioplasty...</td>\n",
       "    </tr>\n",
       "  </tbody>\n",
       "</table>\n",
       "</div>"
      ],
      "text/plain": [
       "      ICD10_PCS_CODE  CCS_CATEGORY  \\\n",
       "12507        0270346            45   \n",
       "12508        027034Z            45   \n",
       "12509        0270356            45   \n",
       "12510        027035Z            45   \n",
       "12511        0270366            45   \n",
       "\n",
       "                              ICD10_PCS_CODE_DESCRIPTION  \\\n",
       "12507  Dilate 1 Cor Art, Bifurc, w Drug-elut Intra, Perc   \n",
       "12508  Dilation of 1 Cor Art with Drug-elut Intra, Pe...   \n",
       "12509  Dilate of 1 Cor Art, Bifurc, with 2 Drug-elut,...   \n",
       "12510  Dilation of 1 Cor Art with 2 Drug-elut, Perc A...   \n",
       "12511  Dilate of 1 Cor Art, Bifurc, with 3 Drug-elut,...   \n",
       "\n",
       "                                CCS_CATEGORY_DESCRIPTION  MULTI_CCS_LVL_1  \\\n",
       "12507  Percutaneous transluminal coronary angioplasty...                7   \n",
       "12508  Percutaneous transluminal coronary angioplasty...                7   \n",
       "12509  Percutaneous transluminal coronary angioplasty...                7   \n",
       "12510  Percutaneous transluminal coronary angioplasty...                7   \n",
       "12511  Percutaneous transluminal coronary angioplasty...                7   \n",
       "\n",
       "                         MULTI_CCS_LVL_1_LABEL  MULTI_CCS_LVL_2  \\\n",
       "12507  Operations on the cardiovascular system              7.3   \n",
       "12508  Operations on the cardiovascular system              7.3   \n",
       "12509  Operations on the cardiovascular system              7.3   \n",
       "12510  Operations on the cardiovascular system              7.3   \n",
       "12511  Operations on the cardiovascular system              7.3   \n",
       "\n",
       "                                   MULTI_CCS_LVL_2_LABEL  \n",
       "12507  Percutaneous transluminal coronary angioplasty...  \n",
       "12508  Percutaneous transluminal coronary angioplasty...  \n",
       "12509  Percutaneous transluminal coronary angioplasty...  \n",
       "12510  Percutaneous transluminal coronary angioplasty...  \n",
       "12511  Percutaneous transluminal coronary angioplasty...  "
      ]
     },
     "execution_count": 53,
     "metadata": {},
     "output_type": "execute_result"
    }
   ],
   "source": [
    "cat_45_df.head()"
   ]
  },
  {
   "cell_type": "code",
   "execution_count": 54,
   "metadata": {},
   "outputs": [
    {
     "data": {
      "text/plain": [
       "{'0'}"
      ]
     },
     "execution_count": 54,
     "metadata": {},
     "output_type": "execute_result"
    }
   ],
   "source": [
    "ccs_first_character_set = set(cat_45_df['ICD10_PCS_CODE'].str[0:1])\n",
    "ccs_first_character_set"
   ]
  },
  {
   "cell_type": "code",
   "execution_count": 55,
   "metadata": {},
   "outputs": [
    {
     "data": {
      "text/plain": [
       "{'02'}"
      ]
     },
     "execution_count": 55,
     "metadata": {},
     "output_type": "execute_result"
    }
   ],
   "source": [
    "ccs_two_character_set = set(cat_45_df['ICD10_PCS_CODE'].str[0:2])\n",
    "ccs_two_character_set"
   ]
  },
  {
   "cell_type": "code",
   "execution_count": 56,
   "metadata": {},
   "outputs": [
    {
     "data": {
      "text/plain": [
       "{'027', '02C'}"
      ]
     },
     "execution_count": 56,
     "metadata": {},
     "output_type": "execute_result"
    }
   ],
   "source": [
    "ccs_three_code_set = set(cat_45_df['ICD10_PCS_CODE'].str[0:3])\n",
    "ccs_three_code_set"
   ]
  },
  {
   "cell_type": "code",
   "execution_count": 57,
   "metadata": {},
   "outputs": [
    {
     "data": {
      "text/plain": [
       "{'0270', '0271', '0272', '0273', '02C0', '02C1', '02C2', '02C3'}"
      ]
     },
     "execution_count": 57,
     "metadata": {},
     "output_type": "execute_result"
    }
   ],
   "source": [
    "ccs_four_code_set = set(cat_45_df['ICD10_PCS_CODE'].str[0:4])\n",
    "ccs_four_code_set"
   ]
  },
  {
   "cell_type": "code",
   "execution_count": null,
   "metadata": {},
   "outputs": [],
   "source": []
  }
 ],
 "metadata": {
  "kernelspec": {
   "display_name": "test_udacity_hc_env",
   "language": "python",
   "name": "test_udacity_hc_env"
  },
  "language_info": {
   "codemirror_mode": {
    "name": "ipython",
    "version": 3
   },
   "file_extension": ".py",
   "mimetype": "text/x-python",
   "name": "python",
   "nbconvert_exporter": "python",
   "pygments_lexer": "ipython3",
   "version": "3.7.6"
  }
 },
 "nbformat": 4,
 "nbformat_minor": 4
}
